{
 "metadata": {
  "language_info": {
   "codemirror_mode": {
    "name": "ipython",
    "version": 3
   },
   "file_extension": ".py",
   "mimetype": "text/x-python",
   "name": "python",
   "nbconvert_exporter": "python",
   "pygments_lexer": "ipython3",
   "version": "3.8.5-final"
  },
  "orig_nbformat": 2,
  "kernelspec": {
   "name": "python385jvsc74a57bd031f2aee4e71d21fbe5cf8b01ff0e069b9275f58929596ceb00d14d90e3e16cd6",
   "display_name": "Python 3.8.5 64-bit"
  },
  "metadata": {
   "interpreter": {
    "hash": "31f2aee4e71d21fbe5cf8b01ff0e069b9275f58929596ceb00d14d90e3e16cd6"
   }
  }
 },
 "nbformat": 4,
 "nbformat_minor": 2,
 "cells": [
  {
   "cell_type": "code",
   "execution_count": 1,
   "metadata": {},
   "outputs": [],
   "source": [
    "import numpy as np\n",
    "import pandas as pd\n",
    "from sklearn.tree import DecisionTreeClassifier\n",
    "from sklearn.metrics import accuracy_score, roc_auc_score, recall_score, precision_score \n",
    "from sklearn.model_selection import  StratifiedShuffleSplit"
   ]
  },
  {
   "cell_type": "code",
   "execution_count": 2,
   "metadata": {},
   "outputs": [
    {
     "output_type": "execute_result",
     "data": {
      "text/plain": [
       "    label  area   perimeter  aspectRatio   centroidX   centroidY  \\\n",
       "72      0  1006  631.771645     1.545455  140.037773  444.460239   \n",
       "73      0   342  150.953319     0.500000  228.985380  441.038012   \n",
       "74      0   324  155.539105     0.473684   28.179012  451.783951   \n",
       "75      1   154   54.870058     1.153846  160.519481  440.194805   \n",
       "76      0   139   56.870058     0.800000  220.359712  432.712230   \n",
       "\n",
       "    equivalentDiameter    extent  meanIntensity  orientation  eccentricity  \\\n",
       "72           35.789370  0.336230       0.332172    -1.542073      0.815709   \n",
       "73           20.867389  0.527778       0.496996    -0.096871      0.874032   \n",
       "74           20.310825  0.473684       0.539240     0.136800      0.887465   \n",
       "75           14.002817  0.789744       0.379374     1.205650      0.598403   \n",
       "76           13.303394  0.772222       0.488278    -0.220644      0.638744   \n",
       "\n",
       "    dicomPatientId  previousCancerDiagnosis  \n",
       "72               3                      0.5  \n",
       "73               4                      1.0  \n",
       "74               4                      1.0  \n",
       "75               4                      1.0  \n",
       "76               4                      1.0  "
      ],
      "text/html": "<div>\n<style scoped>\n    .dataframe tbody tr th:only-of-type {\n        vertical-align: middle;\n    }\n\n    .dataframe tbody tr th {\n        vertical-align: top;\n    }\n\n    .dataframe thead th {\n        text-align: right;\n    }\n</style>\n<table border=\"1\" class=\"dataframe\">\n  <thead>\n    <tr style=\"text-align: right;\">\n      <th></th>\n      <th>label</th>\n      <th>area</th>\n      <th>perimeter</th>\n      <th>aspectRatio</th>\n      <th>centroidX</th>\n      <th>centroidY</th>\n      <th>equivalentDiameter</th>\n      <th>extent</th>\n      <th>meanIntensity</th>\n      <th>orientation</th>\n      <th>eccentricity</th>\n      <th>dicomPatientId</th>\n      <th>previousCancerDiagnosis</th>\n    </tr>\n  </thead>\n  <tbody>\n    <tr>\n      <th>72</th>\n      <td>0</td>\n      <td>1006</td>\n      <td>631.771645</td>\n      <td>1.545455</td>\n      <td>140.037773</td>\n      <td>444.460239</td>\n      <td>35.789370</td>\n      <td>0.336230</td>\n      <td>0.332172</td>\n      <td>-1.542073</td>\n      <td>0.815709</td>\n      <td>3</td>\n      <td>0.5</td>\n    </tr>\n    <tr>\n      <th>73</th>\n      <td>0</td>\n      <td>342</td>\n      <td>150.953319</td>\n      <td>0.500000</td>\n      <td>228.985380</td>\n      <td>441.038012</td>\n      <td>20.867389</td>\n      <td>0.527778</td>\n      <td>0.496996</td>\n      <td>-0.096871</td>\n      <td>0.874032</td>\n      <td>4</td>\n      <td>1.0</td>\n    </tr>\n    <tr>\n      <th>74</th>\n      <td>0</td>\n      <td>324</td>\n      <td>155.539105</td>\n      <td>0.473684</td>\n      <td>28.179012</td>\n      <td>451.783951</td>\n      <td>20.310825</td>\n      <td>0.473684</td>\n      <td>0.539240</td>\n      <td>0.136800</td>\n      <td>0.887465</td>\n      <td>4</td>\n      <td>1.0</td>\n    </tr>\n    <tr>\n      <th>75</th>\n      <td>1</td>\n      <td>154</td>\n      <td>54.870058</td>\n      <td>1.153846</td>\n      <td>160.519481</td>\n      <td>440.194805</td>\n      <td>14.002817</td>\n      <td>0.789744</td>\n      <td>0.379374</td>\n      <td>1.205650</td>\n      <td>0.598403</td>\n      <td>4</td>\n      <td>1.0</td>\n    </tr>\n    <tr>\n      <th>76</th>\n      <td>0</td>\n      <td>139</td>\n      <td>56.870058</td>\n      <td>0.800000</td>\n      <td>220.359712</td>\n      <td>432.712230</td>\n      <td>13.303394</td>\n      <td>0.772222</td>\n      <td>0.488278</td>\n      <td>-0.220644</td>\n      <td>0.638744</td>\n      <td>4</td>\n      <td>1.0</td>\n    </tr>\n  </tbody>\n</table>\n</div>"
     },
     "metadata": {},
     "execution_count": 2
    }
   ],
   "source": [
    "data = pd.read_csv('./database.csv')\n",
    "data.shape\n",
    "data.tail()"
   ]
  },
  {
   "cell_type": "code",
   "execution_count": 3,
   "metadata": {},
   "outputs": [
    {
     "output_type": "execute_result",
     "data": {
      "text/plain": [
       "   label      area  perimeter  aspectRatio  centroidX  centroidY  \\\n",
       "0      0  0.326653   0.350579     0.949091   0.530454   0.842094   \n",
       "1      0  0.326653   0.350579     0.949091   0.530454   0.842094   \n",
       "2      0  0.334669   0.229176     0.040000   1.000000   0.894392   \n",
       "3      0  0.130261   0.086087     0.280000   0.040752   0.857569   \n",
       "4      1  0.100200   0.072654     0.440000   0.470218   0.208083   \n",
       "\n",
       "   equivalentDiameter    extent  meanIntensity  orientation  eccentricity  \n",
       "0            0.534709  0.308178       0.333713     0.036288      0.811104  \n",
       "1            0.534709  0.308178       0.333713     0.036288      0.811104  \n",
       "2            0.542240  0.435063       0.684463     0.464267      0.874032  \n",
       "3            0.308730  0.720855       0.668596     0.545255      0.602152  \n",
       "4            0.261825  0.700916       0.334637     0.793856      0.418157  "
      ],
      "text/html": "<div>\n<style scoped>\n    .dataframe tbody tr th:only-of-type {\n        vertical-align: middle;\n    }\n\n    .dataframe tbody tr th {\n        vertical-align: top;\n    }\n\n    .dataframe thead th {\n        text-align: right;\n    }\n</style>\n<table border=\"1\" class=\"dataframe\">\n  <thead>\n    <tr style=\"text-align: right;\">\n      <th></th>\n      <th>label</th>\n      <th>area</th>\n      <th>perimeter</th>\n      <th>aspectRatio</th>\n      <th>centroidX</th>\n      <th>centroidY</th>\n      <th>equivalentDiameter</th>\n      <th>extent</th>\n      <th>meanIntensity</th>\n      <th>orientation</th>\n      <th>eccentricity</th>\n    </tr>\n  </thead>\n  <tbody>\n    <tr>\n      <th>0</th>\n      <td>0</td>\n      <td>0.326653</td>\n      <td>0.350579</td>\n      <td>0.949091</td>\n      <td>0.530454</td>\n      <td>0.842094</td>\n      <td>0.534709</td>\n      <td>0.308178</td>\n      <td>0.333713</td>\n      <td>0.036288</td>\n      <td>0.811104</td>\n    </tr>\n    <tr>\n      <th>1</th>\n      <td>0</td>\n      <td>0.326653</td>\n      <td>0.350579</td>\n      <td>0.949091</td>\n      <td>0.530454</td>\n      <td>0.842094</td>\n      <td>0.534709</td>\n      <td>0.308178</td>\n      <td>0.333713</td>\n      <td>0.036288</td>\n      <td>0.811104</td>\n    </tr>\n    <tr>\n      <th>2</th>\n      <td>0</td>\n      <td>0.334669</td>\n      <td>0.229176</td>\n      <td>0.040000</td>\n      <td>1.000000</td>\n      <td>0.894392</td>\n      <td>0.542240</td>\n      <td>0.435063</td>\n      <td>0.684463</td>\n      <td>0.464267</td>\n      <td>0.874032</td>\n    </tr>\n    <tr>\n      <th>3</th>\n      <td>0</td>\n      <td>0.130261</td>\n      <td>0.086087</td>\n      <td>0.280000</td>\n      <td>0.040752</td>\n      <td>0.857569</td>\n      <td>0.308730</td>\n      <td>0.720855</td>\n      <td>0.668596</td>\n      <td>0.545255</td>\n      <td>0.602152</td>\n    </tr>\n    <tr>\n      <th>4</th>\n      <td>1</td>\n      <td>0.100200</td>\n      <td>0.072654</td>\n      <td>0.440000</td>\n      <td>0.470218</td>\n      <td>0.208083</td>\n      <td>0.261825</td>\n      <td>0.700916</td>\n      <td>0.334637</td>\n      <td>0.793856</td>\n      <td>0.418157</td>\n    </tr>\n  </tbody>\n</table>\n</div>"
     },
     "metadata": {},
     "execution_count": 3
    }
   ],
   "source": [
    "data.centroidX= (data.centroidX - data.centroidX.min()) / (data.centroidX.max() - data.centroidX.min())\n",
    "data.centroidY= (data.centroidY - data.centroidY.min()) / (data.centroidY.max() - data.centroidY.min())\n",
    "data.orientation = (data.orientation  - data.orientation.min()) / (data.orientation.max() - data.orientation.min())\n",
    "data.perimeter= (data.perimeter - data.perimeter.min()) / (data.perimeter.max() - data.perimeter.min())\n",
    "data.meanIntensity= (data.meanIntensity - data.meanIntensity.min()) / (data.meanIntensity.max() - data.meanIntensity.min())\n",
    "data.extent= (data.extent - data.extent.min()) / (data.extent.max() - data.extent.min())\n",
    "data.aspectRatio= (data.aspectRatio - data.aspectRatio.min()) / (data.aspectRatio.max() - data.aspectRatio.min())\n",
    "data.area = (data.area - data.area.min()) / (data.area.max() - data.area.min())\n",
    "data.equivalentDiameter = (data.equivalentDiameter - data.equivalentDiameter.min()) / (data.equivalentDiameter.max() - data.equivalentDiameter.min())\n",
    "data = data.drop(columns=['previousCancerDiagnosis', 'dicomPatientId'])\n",
    "data.head()"
   ]
  },
  {
   "cell_type": "code",
   "execution_count": 4,
   "metadata": {},
   "outputs": [],
   "source": [
    "featuresColumns = [x for x in data.columns if x not in 'label']\n",
    "stf = StratifiedShuffleSplit(n_splits=1, test_size=23, random_state=42)\n",
    "trainIdx, testIdx = next(stf.split(data[featuresColumns], data['label']))\n",
    "\n",
    "xTrain = data.loc[trainIdx, featuresColumns]\n",
    "yTrain = data.loc[trainIdx, 'label']\n",
    "\n",
    "xTest = data.loc[testIdx, featuresColumns]\n",
    "yTest = data.loc[testIdx, 'label']"
   ]
  },
  {
   "cell_type": "code",
   "execution_count": 5,
   "metadata": {},
   "outputs": [
    {
     "output_type": "execute_result",
     "data": {
      "text/plain": [
       "DecisionTreeClassifier(random_state=2)"
      ]
     },
     "metadata": {},
     "execution_count": 5
    }
   ],
   "source": [
    "dt = DecisionTreeClassifier(random_state=2)\n",
    "dt.fit(xTrain, yTrain)"
   ]
  },
  {
   "cell_type": "code",
   "execution_count": 6,
   "metadata": {},
   "outputs": [
    {
     "output_type": "execute_result",
     "data": {
      "text/plain": [
       "(9, 4)"
      ]
     },
     "metadata": {},
     "execution_count": 6
    }
   ],
   "source": [
    "dt.tree_.node_count, dt.tree_.max_depth"
   ]
  },
  {
   "cell_type": "code",
   "execution_count": 7,
   "metadata": {},
   "outputs": [],
   "source": [
    "def measureErrors(yTrue, yGuess, label):\n",
    "    return pd.Series({\n",
    "        'accuracy': accuracy_score(y_true=yTrue, y_pred=yGuess),\n",
    "        'precision': precision_score(y_true=yTrue, y_pred=yGuess),\n",
    "        'recall': recall_score(y_true=yTrue, y_pred=yGuess),\n",
    "        'roc': roc_auc_score(yTrue,yGuess)\n",
    "        },name=label\n",
    "    )"
   ]
  },
  {
   "cell_type": "code",
   "execution_count": 8,
   "metadata": {},
   "outputs": [
    {
     "output_type": "execute_result",
     "data": {
      "text/plain": [
       "           train      test\n",
       "accuracy     1.0  0.869565\n",
       "precision    1.0  0.777778\n",
       "recall       1.0  0.875000\n",
       "roc          1.0  0.870833"
      ],
      "text/html": "<div>\n<style scoped>\n    .dataframe tbody tr th:only-of-type {\n        vertical-align: middle;\n    }\n\n    .dataframe tbody tr th {\n        vertical-align: top;\n    }\n\n    .dataframe thead th {\n        text-align: right;\n    }\n</style>\n<table border=\"1\" class=\"dataframe\">\n  <thead>\n    <tr style=\"text-align: right;\">\n      <th></th>\n      <th>train</th>\n      <th>test</th>\n    </tr>\n  </thead>\n  <tbody>\n    <tr>\n      <th>accuracy</th>\n      <td>1.0</td>\n      <td>0.869565</td>\n    </tr>\n    <tr>\n      <th>precision</th>\n      <td>1.0</td>\n      <td>0.777778</td>\n    </tr>\n    <tr>\n      <th>recall</th>\n      <td>1.0</td>\n      <td>0.875000</td>\n    </tr>\n    <tr>\n      <th>roc</th>\n      <td>1.0</td>\n      <td>0.870833</td>\n    </tr>\n  </tbody>\n</table>\n</div>"
     },
     "metadata": {},
     "execution_count": 8
    }
   ],
   "source": [
    "trainPrediction = dt.predict(xTrain)\n",
    "testPrediction = dt.predict(xTest)\n",
    "\n",
    "trainAndTestErrors = pd.concat([measureErrors(yTrain, trainPrediction, 'train'), measureErrors(yTest, testPrediction, 'test')], axis=1)\n",
    "\n",
    "trainAndTestErrors"
   ]
  },
  {
   "cell_type": "code",
   "execution_count": 11,
   "metadata": {},
   "outputs": [],
   "source": [
    "import pickle;\n",
    "pickle.dump(dt, open('dt.sav', 'wb'));"
   ]
  },
  {
   "cell_type": "code",
   "execution_count": 10,
   "metadata": {},
   "outputs": [
    {
     "output_type": "error",
     "ename": "FileNotFoundError",
     "evalue": "[Errno 2] No such file or directory: 'dt.sav'",
     "traceback": [
      "\u001b[0;31m---------------------------------------------------------------------------\u001b[0m",
      "\u001b[0;31mFileNotFoundError\u001b[0m                         Traceback (most recent call last)",
      "\u001b[0;32m<ipython-input-10-388d89d40398>\u001b[0m in \u001b[0;36m<module>\u001b[0;34m\u001b[0m\n\u001b[0;32m----> 1\u001b[0;31m \u001b[0mloaded_model\u001b[0m \u001b[0;34m=\u001b[0m \u001b[0mpickle\u001b[0m\u001b[0;34m.\u001b[0m\u001b[0mload\u001b[0m\u001b[0;34m(\u001b[0m\u001b[0mopen\u001b[0m\u001b[0;34m(\u001b[0m\u001b[0;34m'dt.sav'\u001b[0m\u001b[0;34m,\u001b[0m \u001b[0;34m'rb'\u001b[0m\u001b[0;34m)\u001b[0m\u001b[0;34m)\u001b[0m\u001b[0;34m;\u001b[0m\u001b[0;34m\u001b[0m\u001b[0;34m\u001b[0m\u001b[0m\n\u001b[0m",
      "\u001b[0;31mFileNotFoundError\u001b[0m: [Errno 2] No such file or directory: 'dt.sav'"
     ]
    }
   ],
   "source": [
    "\n",
    "loaded_model = pickle.load(open('dt.sav', 'rb'));\n"
   ]
  },
  {
   "cell_type": "code",
   "execution_count": 58,
   "metadata": {},
   "outputs": [
    {
     "output_type": "stream",
     "name": "stdout",
     "text": [
      "area                  191.000000\nperimeter             107.497475\naspectRatio             0.809524\ncentroidX             150.581152\ncentroidY             389.151832\nequivalentDiameter     15.594510\nextent                  0.535014\nmeanIntensity           0.328796\norientation             0.604204\neccentricity            0.864884\nName: 12, dtype: float64 1\n1 [0. 1.]\n"
     ]
    }
   ],
   "source": [
    "predictData = [24,15.6568542495,1.2,128.5,318,5.5279063915000002,0.80000000000000004,0.43202614379999998,1.3211229659999999,0.64881682090000004]\n",
    "prediction = loaded_model.predict([predictData]);\n",
    "prob = loaded_model.predict_proba([predictData])\n",
    "print(prediction[0], prob[0]);"
   ]
  },
  {
   "cell_type": "code",
   "execution_count": 59,
   "metadata": {},
   "outputs": [
    {
     "output_type": "execute_result",
     "data": {
      "text/plain": [
       "           train      test\n",
       "accuracy     1.0  0.850000\n",
       "precision    1.0  0.750000\n",
       "recall       1.0  0.857143\n",
       "roc          1.0  0.851648"
      ],
      "text/html": "<div>\n<style scoped>\n    .dataframe tbody tr th:only-of-type {\n        vertical-align: middle;\n    }\n\n    .dataframe tbody tr th {\n        vertical-align: top;\n    }\n\n    .dataframe thead th {\n        text-align: right;\n    }\n</style>\n<table border=\"1\" class=\"dataframe\">\n  <thead>\n    <tr style=\"text-align: right;\">\n      <th></th>\n      <th>train</th>\n      <th>test</th>\n    </tr>\n  </thead>\n  <tbody>\n    <tr>\n      <th>accuracy</th>\n      <td>1.0</td>\n      <td>0.850000</td>\n    </tr>\n    <tr>\n      <th>precision</th>\n      <td>1.0</td>\n      <td>0.750000</td>\n    </tr>\n    <tr>\n      <th>recall</th>\n      <td>1.0</td>\n      <td>0.857143</td>\n    </tr>\n    <tr>\n      <th>roc</th>\n      <td>1.0</td>\n      <td>0.851648</td>\n    </tr>\n  </tbody>\n</table>\n</div>"
     },
     "metadata": {},
     "execution_count": 59
    }
   ],
   "source": [
    "trainPrediction = loaded_model.predict(xTrain)\n",
    "testPrediction = loaded_model.predict(xTest)\n",
    "\n",
    "trainAndTestErrors = pd.concat([measureErrors(yTrain, trainPrediction, 'train'), measureErrors(yTest, testPrediction, 'test')], axis=1)\n",
    "trainAndTestErrors"
   ]
  }
 ]
}
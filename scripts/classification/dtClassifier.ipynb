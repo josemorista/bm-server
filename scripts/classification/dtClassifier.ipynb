{
 "metadata": {
  "language_info": {
   "codemirror_mode": {
    "name": "ipython",
    "version": 3
   },
   "file_extension": ".py",
   "mimetype": "text/x-python",
   "name": "python",
   "nbconvert_exporter": "python",
   "pygments_lexer": "ipython3",
   "version": "3.8.5-final"
  },
  "orig_nbformat": 2,
  "kernelspec": {
   "name": "python3",
   "display_name": "Python 3.8.5 64-bit",
   "metadata": {
    "interpreter": {
     "hash": "31f2aee4e71d21fbe5cf8b01ff0e069b9275f58929596ceb00d14d90e3e16cd6"
    }
   }
  }
 },
 "nbformat": 4,
 "nbformat_minor": 2,
 "cells": [
  {
   "cell_type": "code",
   "execution_count": 1,
   "metadata": {},
   "outputs": [],
   "source": [
    "import numpy as np\n",
    "import pandas as pd\n",
    "from sklearn.tree import DecisionTreeClassifier\n",
    "from sklearn.metrics import accuracy_score, roc_auc_score, recall_score, precision_score \n",
    "from sklearn.model_selection import  StratifiedShuffleSplit"
   ]
  },
  {
   "cell_type": "code",
   "execution_count": 49,
   "metadata": {},
   "outputs": [
    {
     "output_type": "execute_result",
     "data": {
      "text/plain": [
       "    label  area   perimeter  aspectRatio   centroidX   centroidY  \\\n",
       "72      0  1006  631.771645     1.545455  140.037773  444.460239   \n",
       "73      0   342  150.953319     0.500000  228.985380  441.038012   \n",
       "74      0   324  155.539105     0.473684   28.179012  451.783951   \n",
       "75      1   154   54.870058     1.153846  160.519481  440.194805   \n",
       "76      0   139   56.870058     0.800000  220.359712  432.712230   \n",
       "\n",
       "    equivalentDiameter    extent  meanIntensity  orientation  eccentricity  \\\n",
       "72           35.789370  0.336230       0.332172    -1.542073      0.815709   \n",
       "73           20.867389  0.527778       0.496996    -0.096871      0.874032   \n",
       "74           20.310825  0.473684       0.539240     0.136800      0.887465   \n",
       "75           14.002817  0.789744       0.379374     1.205650      0.598403   \n",
       "76           13.303394  0.772222       0.488278    -0.220644      0.638744   \n",
       "\n",
       "    dicomPatientId  previousCancerDiagnosis  \n",
       "72               3                      0.5  \n",
       "73               4                      1.0  \n",
       "74               4                      1.0  \n",
       "75               4                      1.0  \n",
       "76               4                      1.0  "
      ],
      "text/html": "<div>\n<style scoped>\n    .dataframe tbody tr th:only-of-type {\n        vertical-align: middle;\n    }\n\n    .dataframe tbody tr th {\n        vertical-align: top;\n    }\n\n    .dataframe thead th {\n        text-align: right;\n    }\n</style>\n<table border=\"1\" class=\"dataframe\">\n  <thead>\n    <tr style=\"text-align: right;\">\n      <th></th>\n      <th>label</th>\n      <th>area</th>\n      <th>perimeter</th>\n      <th>aspectRatio</th>\n      <th>centroidX</th>\n      <th>centroidY</th>\n      <th>equivalentDiameter</th>\n      <th>extent</th>\n      <th>meanIntensity</th>\n      <th>orientation</th>\n      <th>eccentricity</th>\n      <th>dicomPatientId</th>\n      <th>previousCancerDiagnosis</th>\n    </tr>\n  </thead>\n  <tbody>\n    <tr>\n      <th>72</th>\n      <td>0</td>\n      <td>1006</td>\n      <td>631.771645</td>\n      <td>1.545455</td>\n      <td>140.037773</td>\n      <td>444.460239</td>\n      <td>35.789370</td>\n      <td>0.336230</td>\n      <td>0.332172</td>\n      <td>-1.542073</td>\n      <td>0.815709</td>\n      <td>3</td>\n      <td>0.5</td>\n    </tr>\n    <tr>\n      <th>73</th>\n      <td>0</td>\n      <td>342</td>\n      <td>150.953319</td>\n      <td>0.500000</td>\n      <td>228.985380</td>\n      <td>441.038012</td>\n      <td>20.867389</td>\n      <td>0.527778</td>\n      <td>0.496996</td>\n      <td>-0.096871</td>\n      <td>0.874032</td>\n      <td>4</td>\n      <td>1.0</td>\n    </tr>\n    <tr>\n      <th>74</th>\n      <td>0</td>\n      <td>324</td>\n      <td>155.539105</td>\n      <td>0.473684</td>\n      <td>28.179012</td>\n      <td>451.783951</td>\n      <td>20.310825</td>\n      <td>0.473684</td>\n      <td>0.539240</td>\n      <td>0.136800</td>\n      <td>0.887465</td>\n      <td>4</td>\n      <td>1.0</td>\n    </tr>\n    <tr>\n      <th>75</th>\n      <td>1</td>\n      <td>154</td>\n      <td>54.870058</td>\n      <td>1.153846</td>\n      <td>160.519481</td>\n      <td>440.194805</td>\n      <td>14.002817</td>\n      <td>0.789744</td>\n      <td>0.379374</td>\n      <td>1.205650</td>\n      <td>0.598403</td>\n      <td>4</td>\n      <td>1.0</td>\n    </tr>\n    <tr>\n      <th>76</th>\n      <td>0</td>\n      <td>139</td>\n      <td>56.870058</td>\n      <td>0.800000</td>\n      <td>220.359712</td>\n      <td>432.712230</td>\n      <td>13.303394</td>\n      <td>0.772222</td>\n      <td>0.488278</td>\n      <td>-0.220644</td>\n      <td>0.638744</td>\n      <td>4</td>\n      <td>1.0</td>\n    </tr>\n  </tbody>\n</table>\n</div>"
     },
     "metadata": {},
     "execution_count": 49
    }
   ],
   "source": [
    "data = pd.read_csv('./database.csv')\n",
    "data.shape\n",
    "data.tail()"
   ]
  },
  {
   "cell_type": "code",
   "execution_count": 50,
   "metadata": {},
   "outputs": [
    {
     "output_type": "execute_result",
     "data": {
      "text/plain": [
       "   label  area   perimeter  aspectRatio   centroidX   centroidY  \\\n",
       "0      0   334  226.681241     1.636364  134.697605  423.724551   \n",
       "1      0   334  226.681241     1.636364  134.697605  423.724551   \n",
       "2      0   342  150.953319     0.500000  228.985380  441.038012   \n",
       "3      0   138   61.698485     0.800000   36.362319  428.847826   \n",
       "4      1   108   53.319805     1.000000  122.601852  213.833333   \n",
       "\n",
       "   equivalentDiameter    extent  meanIntensity  orientation  eccentricity  \n",
       "0           20.621882  0.421717       0.320923    -1.429113      0.811104  \n",
       "1           20.621882  0.421717       0.320923    -1.429113      0.811104  \n",
       "2           20.867389  0.527778       0.496996    -0.096871      0.874032  \n",
       "3           13.255454  0.766667       0.489031     0.155235      0.602152  \n",
       "4           11.726460  0.750000       0.321387     0.929097      0.418157  "
      ],
      "text/html": "<div>\n<style scoped>\n    .dataframe tbody tr th:only-of-type {\n        vertical-align: middle;\n    }\n\n    .dataframe tbody tr th {\n        vertical-align: top;\n    }\n\n    .dataframe thead th {\n        text-align: right;\n    }\n</style>\n<table border=\"1\" class=\"dataframe\">\n  <thead>\n    <tr style=\"text-align: right;\">\n      <th></th>\n      <th>label</th>\n      <th>area</th>\n      <th>perimeter</th>\n      <th>aspectRatio</th>\n      <th>centroidX</th>\n      <th>centroidY</th>\n      <th>equivalentDiameter</th>\n      <th>extent</th>\n      <th>meanIntensity</th>\n      <th>orientation</th>\n      <th>eccentricity</th>\n    </tr>\n  </thead>\n  <tbody>\n    <tr>\n      <th>0</th>\n      <td>0</td>\n      <td>334</td>\n      <td>226.681241</td>\n      <td>1.636364</td>\n      <td>134.697605</td>\n      <td>423.724551</td>\n      <td>20.621882</td>\n      <td>0.421717</td>\n      <td>0.320923</td>\n      <td>-1.429113</td>\n      <td>0.811104</td>\n    </tr>\n    <tr>\n      <th>1</th>\n      <td>0</td>\n      <td>334</td>\n      <td>226.681241</td>\n      <td>1.636364</td>\n      <td>134.697605</td>\n      <td>423.724551</td>\n      <td>20.621882</td>\n      <td>0.421717</td>\n      <td>0.320923</td>\n      <td>-1.429113</td>\n      <td>0.811104</td>\n    </tr>\n    <tr>\n      <th>2</th>\n      <td>0</td>\n      <td>342</td>\n      <td>150.953319</td>\n      <td>0.500000</td>\n      <td>228.985380</td>\n      <td>441.038012</td>\n      <td>20.867389</td>\n      <td>0.527778</td>\n      <td>0.496996</td>\n      <td>-0.096871</td>\n      <td>0.874032</td>\n    </tr>\n    <tr>\n      <th>3</th>\n      <td>0</td>\n      <td>138</td>\n      <td>61.698485</td>\n      <td>0.800000</td>\n      <td>36.362319</td>\n      <td>428.847826</td>\n      <td>13.255454</td>\n      <td>0.766667</td>\n      <td>0.489031</td>\n      <td>0.155235</td>\n      <td>0.602152</td>\n    </tr>\n    <tr>\n      <th>4</th>\n      <td>1</td>\n      <td>108</td>\n      <td>53.319805</td>\n      <td>1.000000</td>\n      <td>122.601852</td>\n      <td>213.833333</td>\n      <td>11.726460</td>\n      <td>0.750000</td>\n      <td>0.321387</td>\n      <td>0.929097</td>\n      <td>0.418157</td>\n    </tr>\n  </tbody>\n</table>\n</div>"
     },
     "metadata": {},
     "execution_count": 50
    }
   ],
   "source": [
    "\"\"\"data.centroidX= (data.centroidX - data.centroidX.min()) / (data.centroidX.max() - data.centroidX.min())\n",
    "data.centroidY= (data.centroidY - data.centroidY.min()) / (data.centroidY.max() - data.centroidY.min())\n",
    "data.orientation = (data.orientation  - data.orientation.min()) / (data.orientation.max() - data.orientation.min())\n",
    "data.perimeter= (data.perimeter - data.perimeter.min()) / (data.perimeter.max() - data.perimeter.min())\n",
    "data.meanIntensity= (data.meanIntensity - data.meanIntensity.min()) / (data.meanIntensity.max() - data.meanIntensity.min())\n",
    "data.extent= (data.extent - data.extent.min()) / (data.extent.max() - data.extent.min())\n",
    "data.aspectRatio= (data.aspectRatio - data.aspectRatio.min()) / (data.aspectRatio.max() - data.aspectRatio.min())\n",
    "data.area = (data.area - data.area.min()) / (data.area.max() - data.area.min())\n",
    "data.equivalentDiameter = (data.equivalentDiameter - data.equivalentDiameter.min()) / (data.equivalentDiameter.max() - data.equivalentDiameter.min())\"\"\"\n",
    "data = data.drop(columns=['previousCancerDiagnosis', 'dicomPatientId'])\n",
    "data.head()"
   ]
  },
  {
   "cell_type": "code",
   "execution_count": 51,
   "metadata": {},
   "outputs": [],
   "source": [
    "featuresColumns = [x for x in data.columns if x not in 'label']\n",
    "stf = StratifiedShuffleSplit(n_splits=1, test_size=2, random_state=42)\n",
    "trainIdx, testIdx = next(stf.split(data[featuresColumns], data['label']))\n",
    "\n",
    "xTrain = data.loc[trainIdx, featuresColumns]\n",
    "yTrain = data.loc[trainIdx, 'label']\n",
    "\n",
    "xTest = data.loc[testIdx, featuresColumns]\n",
    "yTest = data.loc[testIdx, 'label']"
   ]
  },
  {
   "cell_type": "code",
   "execution_count": 52,
   "metadata": {},
   "outputs": [
    {
     "output_type": "execute_result",
     "data": {
      "text/plain": [
       "DecisionTreeClassifier(random_state=2)"
      ]
     },
     "metadata": {},
     "execution_count": 52
    }
   ],
   "source": [
    "dt = DecisionTreeClassifier(random_state=2)\n",
    "dt.fit(xTrain, yTrain)"
   ]
  },
  {
   "cell_type": "code",
   "execution_count": 53,
   "metadata": {},
   "outputs": [
    {
     "output_type": "execute_result",
     "data": {
      "text/plain": [
       "(9, 4)"
      ]
     },
     "metadata": {},
     "execution_count": 53
    }
   ],
   "source": [
    "dt.tree_.node_count, dt.tree_.max_depth"
   ]
  },
  {
   "cell_type": "code",
   "execution_count": 54,
   "metadata": {},
   "outputs": [],
   "source": [
    "def measureErrors(yTrue, yGuess, label):\n",
    "    return pd.Series({\n",
    "        'accuracy': accuracy_score(y_true=yTrue, y_pred=yGuess),\n",
    "        'precision': precision_score(y_true=yTrue, y_pred=yGuess),\n",
    "        'recall': recall_score(y_true=yTrue, y_pred=yGuess),\n",
    "        'roc': roc_auc_score(yTrue,yGuess)\n",
    "        },name=label\n",
    "    )"
   ]
  },
  {
   "cell_type": "code",
   "execution_count": 55,
   "metadata": {},
   "outputs": [
    {
     "output_type": "execute_result",
     "data": {
      "text/plain": [
       "           train      test\n",
       "accuracy     1.0  0.850000\n",
       "precision    1.0  0.750000\n",
       "recall       1.0  0.857143\n",
       "roc          1.0  0.851648"
      ],
      "text/html": "<div>\n<style scoped>\n    .dataframe tbody tr th:only-of-type {\n        vertical-align: middle;\n    }\n\n    .dataframe tbody tr th {\n        vertical-align: top;\n    }\n\n    .dataframe thead th {\n        text-align: right;\n    }\n</style>\n<table border=\"1\" class=\"dataframe\">\n  <thead>\n    <tr style=\"text-align: right;\">\n      <th></th>\n      <th>train</th>\n      <th>test</th>\n    </tr>\n  </thead>\n  <tbody>\n    <tr>\n      <th>accuracy</th>\n      <td>1.0</td>\n      <td>0.850000</td>\n    </tr>\n    <tr>\n      <th>precision</th>\n      <td>1.0</td>\n      <td>0.750000</td>\n    </tr>\n    <tr>\n      <th>recall</th>\n      <td>1.0</td>\n      <td>0.857143</td>\n    </tr>\n    <tr>\n      <th>roc</th>\n      <td>1.0</td>\n      <td>0.851648</td>\n    </tr>\n  </tbody>\n</table>\n</div>"
     },
     "metadata": {},
     "execution_count": 55
    }
   ],
   "source": [
    "trainPrediction = dt.predict(xTrain)\n",
    "testPrediction = dt.predict(xTest)\n",
    "\n",
    "trainAndTestErrors = pd.concat([measureErrors(yTrain, trainPrediction, 'train'), measureErrors(yTest, testPrediction, 'test')], axis=1)\n",
    "\n",
    "trainAndTestErrors"
   ]
  },
  {
   "cell_type": "code",
   "execution_count": 2,
   "metadata": {},
   "outputs": [],
   "source": [
    "import pickle;\n",
    "#pickle.dump(dt, open('dt.sav', 'wb'));"
   ]
  },
  {
   "cell_type": "code",
   "execution_count": 3,
   "metadata": {},
   "outputs": [
    {
     "output_type": "error",
     "ename": "FileNotFoundError",
     "evalue": "[Errno 2] No such file or directory: 'dt.sav'",
     "traceback": [
      "\u001b[0;31m---------------------------------------------------------------------------\u001b[0m",
      "\u001b[0;31mFileNotFoundError\u001b[0m                         Traceback (most recent call last)",
      "\u001b[0;32m<ipython-input-3-388d89d40398>\u001b[0m in \u001b[0;36m<module>\u001b[0;34m\u001b[0m\n\u001b[0;32m----> 1\u001b[0;31m \u001b[0mloaded_model\u001b[0m \u001b[0;34m=\u001b[0m \u001b[0mpickle\u001b[0m\u001b[0;34m.\u001b[0m\u001b[0mload\u001b[0m\u001b[0;34m(\u001b[0m\u001b[0mopen\u001b[0m\u001b[0;34m(\u001b[0m\u001b[0;34m'dt.sav'\u001b[0m\u001b[0;34m,\u001b[0m \u001b[0;34m'rb'\u001b[0m\u001b[0;34m)\u001b[0m\u001b[0;34m)\u001b[0m\u001b[0;34m;\u001b[0m\u001b[0;34m\u001b[0m\u001b[0;34m\u001b[0m\u001b[0m\n\u001b[0m",
      "\u001b[0;31mFileNotFoundError\u001b[0m: [Errno 2] No such file or directory: 'dt.sav'"
     ]
    }
   ],
   "source": [
    "\n",
    "loaded_model = pickle.load(open('dt.sav', 'rb'));\n"
   ]
  },
  {
   "cell_type": "code",
   "execution_count": 58,
   "metadata": {},
   "outputs": [
    {
     "output_type": "stream",
     "name": "stdout",
     "text": [
      "area                  191.000000\nperimeter             107.497475\naspectRatio             0.809524\ncentroidX             150.581152\ncentroidY             389.151832\nequivalentDiameter     15.594510\nextent                  0.535014\nmeanIntensity           0.328796\norientation             0.604204\neccentricity            0.864884\nName: 12, dtype: float64 1\n1 [0. 1.]\n"
     ]
    }
   ],
   "source": [
    "predictData = [24,15.6568542495,1.2,128.5,318,5.5279063915000002,0.80000000000000004,0.43202614379999998,1.3211229659999999,0.64881682090000004]\n",
    "prediction = loaded_model.predict([predictData]);\n",
    "prob = loaded_model.predict_proba([predictData])\n",
    "print(prediction[0], prob[0]);"
   ]
  },
  {
   "cell_type": "code",
   "execution_count": 59,
   "metadata": {},
   "outputs": [
    {
     "output_type": "execute_result",
     "data": {
      "text/plain": [
       "           train      test\n",
       "accuracy     1.0  0.850000\n",
       "precision    1.0  0.750000\n",
       "recall       1.0  0.857143\n",
       "roc          1.0  0.851648"
      ],
      "text/html": "<div>\n<style scoped>\n    .dataframe tbody tr th:only-of-type {\n        vertical-align: middle;\n    }\n\n    .dataframe tbody tr th {\n        vertical-align: top;\n    }\n\n    .dataframe thead th {\n        text-align: right;\n    }\n</style>\n<table border=\"1\" class=\"dataframe\">\n  <thead>\n    <tr style=\"text-align: right;\">\n      <th></th>\n      <th>train</th>\n      <th>test</th>\n    </tr>\n  </thead>\n  <tbody>\n    <tr>\n      <th>accuracy</th>\n      <td>1.0</td>\n      <td>0.850000</td>\n    </tr>\n    <tr>\n      <th>precision</th>\n      <td>1.0</td>\n      <td>0.750000</td>\n    </tr>\n    <tr>\n      <th>recall</th>\n      <td>1.0</td>\n      <td>0.857143</td>\n    </tr>\n    <tr>\n      <th>roc</th>\n      <td>1.0</td>\n      <td>0.851648</td>\n    </tr>\n  </tbody>\n</table>\n</div>"
     },
     "metadata": {},
     "execution_count": 59
    }
   ],
   "source": [
    "trainPrediction = loaded_model.predict(xTrain)\n",
    "testPrediction = loaded_model.predict(xTest)\n",
    "\n",
    "trainAndTestErrors = pd.concat([measureErrors(yTrain, trainPrediction, 'train'), measureErrors(yTest, testPrediction, 'test')], axis=1)\n",
    "trainAndTestErrors"
   ]
  }
 ]
}
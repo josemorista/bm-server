{
 "metadata": {
  "language_info": {
   "codemirror_mode": {
    "name": "ipython",
    "version": 3
   },
   "file_extension": ".py",
   "mimetype": "text/x-python",
   "name": "python",
   "nbconvert_exporter": "python",
   "pygments_lexer": "ipython3",
   "version": "3.8.5-final"
  },
  "orig_nbformat": 2,
  "kernelspec": {
   "name": "python3",
   "display_name": "Python 3",
   "language": "python"
  }
 },
 "nbformat": 4,
 "nbformat_minor": 2,
 "cells": [
  {
   "cell_type": "code",
   "execution_count": 17,
   "metadata": {},
   "outputs": [],
   "source": [
    "import numpy as np\n",
    "import pandas as pd\n",
    "from sklearn.neighbors import KNeighborsClassifier\n",
    "from sklearn.metrics import accuracy_score, roc_auc_score, recall_score, precision_score \n",
    "from sklearn.model_selection import  StratifiedShuffleSplit"
   ]
  },
  {
   "cell_type": "code",
   "execution_count": 18,
   "metadata": {},
   "outputs": [
    {
     "output_type": "execute_result",
     "data": {
      "text/plain": [
       "(77, 13)"
      ]
     },
     "metadata": {},
     "execution_count": 18
    }
   ],
   "source": [
    "data = pd.read_csv('./database.csv')\n",
    "data.shape"
   ]
  },
  {
   "cell_type": "code",
   "execution_count": 19,
   "metadata": {},
   "outputs": [
    {
     "output_type": "execute_result",
     "data": {
      "text/plain": [
       "   label  area   perimeter  aspectRatio   centroidX   centroidY  \\\n",
       "0      0   334  226.681241     1.636364  134.697605  423.724551   \n",
       "1      0   334  226.681241     1.636364  134.697605  423.724551   \n",
       "2      0   342  150.953319     0.500000  228.985380  441.038012   \n",
       "3      0   138   61.698485     0.800000   36.362319  428.847826   \n",
       "4      1   108   53.319805     1.000000  122.601852  213.833333   \n",
       "\n",
       "   equivalentDiameter    extent  meanIntensity  orientation  eccentricity  \n",
       "0           20.621882  0.421717       0.320923    -1.429113      0.811104  \n",
       "1           20.621882  0.421717       0.320923    -1.429113      0.811104  \n",
       "2           20.867389  0.527778       0.496996    -0.096871      0.874032  \n",
       "3           13.255454  0.766667       0.489031     0.155235      0.602152  \n",
       "4           11.726460  0.750000       0.321387     0.929097      0.418157  "
      ],
      "text/html": "<div>\n<style scoped>\n    .dataframe tbody tr th:only-of-type {\n        vertical-align: middle;\n    }\n\n    .dataframe tbody tr th {\n        vertical-align: top;\n    }\n\n    .dataframe thead th {\n        text-align: right;\n    }\n</style>\n<table border=\"1\" class=\"dataframe\">\n  <thead>\n    <tr style=\"text-align: right;\">\n      <th></th>\n      <th>label</th>\n      <th>area</th>\n      <th>perimeter</th>\n      <th>aspectRatio</th>\n      <th>centroidX</th>\n      <th>centroidY</th>\n      <th>equivalentDiameter</th>\n      <th>extent</th>\n      <th>meanIntensity</th>\n      <th>orientation</th>\n      <th>eccentricity</th>\n    </tr>\n  </thead>\n  <tbody>\n    <tr>\n      <th>0</th>\n      <td>0</td>\n      <td>334</td>\n      <td>226.681241</td>\n      <td>1.636364</td>\n      <td>134.697605</td>\n      <td>423.724551</td>\n      <td>20.621882</td>\n      <td>0.421717</td>\n      <td>0.320923</td>\n      <td>-1.429113</td>\n      <td>0.811104</td>\n    </tr>\n    <tr>\n      <th>1</th>\n      <td>0</td>\n      <td>334</td>\n      <td>226.681241</td>\n      <td>1.636364</td>\n      <td>134.697605</td>\n      <td>423.724551</td>\n      <td>20.621882</td>\n      <td>0.421717</td>\n      <td>0.320923</td>\n      <td>-1.429113</td>\n      <td>0.811104</td>\n    </tr>\n    <tr>\n      <th>2</th>\n      <td>0</td>\n      <td>342</td>\n      <td>150.953319</td>\n      <td>0.500000</td>\n      <td>228.985380</td>\n      <td>441.038012</td>\n      <td>20.867389</td>\n      <td>0.527778</td>\n      <td>0.496996</td>\n      <td>-0.096871</td>\n      <td>0.874032</td>\n    </tr>\n    <tr>\n      <th>3</th>\n      <td>0</td>\n      <td>138</td>\n      <td>61.698485</td>\n      <td>0.800000</td>\n      <td>36.362319</td>\n      <td>428.847826</td>\n      <td>13.255454</td>\n      <td>0.766667</td>\n      <td>0.489031</td>\n      <td>0.155235</td>\n      <td>0.602152</td>\n    </tr>\n    <tr>\n      <th>4</th>\n      <td>1</td>\n      <td>108</td>\n      <td>53.319805</td>\n      <td>1.000000</td>\n      <td>122.601852</td>\n      <td>213.833333</td>\n      <td>11.726460</td>\n      <td>0.750000</td>\n      <td>0.321387</td>\n      <td>0.929097</td>\n      <td>0.418157</td>\n    </tr>\n  </tbody>\n</table>\n</div>"
     },
     "metadata": {},
     "execution_count": 19
    }
   ],
   "source": [
    "\"\"\"data.centroidX= (data.centroidX - data.centroidX.min()) / (data.centroidX.max() - data.centroidX.min())\n",
    "data.centroidY= (data.centroidY - data.centroidY.min()) / (data.centroidY.max() - data.centroidY.min())\n",
    "data.orientation = (data.orientation  - data.orientation.min()) / (data.orientation.max() - data.orientation.min())\n",
    "data.perimeter= (data.perimeter - data.perimeter.min()) / (data.perimeter.max() - data.perimeter.min())\n",
    "data.meanIntensity= (data.meanIntensity - data.meanIntensity.min()) / (data.meanIntensity.max() - data.meanIntensity.min())\n",
    "data.extent= (data.extent - data.extent.min()) / (data.extent.max() - data.extent.min())\n",
    "data.aspectRatio= (data.aspectRatio - data.aspectRatio.min()) / (data.aspectRatio.max() - data.aspectRatio.min())\n",
    "data.area = (data.area - data.area.min()) / (data.area.max() - data.area.min())\n",
    "data.equivalentDiameter = (data.equivalentDiameter - data.equivalentDiameter.min()) / (data.equivalentDiameter.max() - data.equivalentDiameter.min())\"\"\"\n",
    "data = data.drop(columns=['previousCancerDiagnosis', 'dicomPatientId'])\n",
    "data.head()"
   ]
  },
  {
   "cell_type": "code",
   "execution_count": 20,
   "metadata": {},
   "outputs": [],
   "source": [
    "featuresColumns = [x for x in data.columns if x not in 'label']\n",
    "stf = StratifiedShuffleSplit(n_splits=1, test_size=10, random_state=42)\n",
    "trainIdx, testIdx = next(stf.split(data[featuresColumns], data['label']))\n",
    "\n",
    "xTrain = data.loc[trainIdx, featuresColumns]\n",
    "yTrain = data.loc[trainIdx, 'label']\n",
    "\n",
    "xTest = data.loc[testIdx, featuresColumns]\n",
    "yTest = data.loc[testIdx, 'label']"
   ]
  },
  {
   "cell_type": "code",
   "execution_count": 21,
   "metadata": {},
   "outputs": [
    {
     "output_type": "execute_result",
     "data": {
      "text/plain": [
       "KNeighborsClassifier(n_neighbors=1)"
      ]
     },
     "metadata": {},
     "execution_count": 21
    }
   ],
   "source": [
    "knn = KNeighborsClassifier(n_neighbors=1)\n",
    "knn.fit(xTrain, yTrain)"
   ]
  },
  {
   "cell_type": "code",
   "execution_count": 22,
   "metadata": {},
   "outputs": [],
   "source": [
    "def measureErrors(yTrue, yGuess, label):\n",
    "    return pd.Series({\n",
    "        'accuracy': accuracy_score(y_true=yTrue, y_pred=yGuess),\n",
    "        'precision': precision_score(y_true=yTrue, y_pred=yGuess),\n",
    "        'recall': recall_score(y_true=yTrue, y_pred=yGuess),\n",
    "        'roc': roc_auc_score(yTrue,yGuess)\n",
    "        },name=label\n",
    "    )"
   ]
  },
  {
   "cell_type": "code",
   "execution_count": 23,
   "metadata": {},
   "outputs": [
    {
     "output_type": "execute_result",
     "data": {
      "text/plain": [
       "           train   test\n",
       "accuracy     1.0  0.900\n",
       "precision    1.0  1.000\n",
       "recall       1.0  0.750\n",
       "roc          1.0  0.875"
      ],
      "text/html": "<div>\n<style scoped>\n    .dataframe tbody tr th:only-of-type {\n        vertical-align: middle;\n    }\n\n    .dataframe tbody tr th {\n        vertical-align: top;\n    }\n\n    .dataframe thead th {\n        text-align: right;\n    }\n</style>\n<table border=\"1\" class=\"dataframe\">\n  <thead>\n    <tr style=\"text-align: right;\">\n      <th></th>\n      <th>train</th>\n      <th>test</th>\n    </tr>\n  </thead>\n  <tbody>\n    <tr>\n      <th>accuracy</th>\n      <td>1.0</td>\n      <td>0.900</td>\n    </tr>\n    <tr>\n      <th>precision</th>\n      <td>1.0</td>\n      <td>1.000</td>\n    </tr>\n    <tr>\n      <th>recall</th>\n      <td>1.0</td>\n      <td>0.750</td>\n    </tr>\n    <tr>\n      <th>roc</th>\n      <td>1.0</td>\n      <td>0.875</td>\n    </tr>\n  </tbody>\n</table>\n</div>"
     },
     "metadata": {},
     "execution_count": 23
    }
   ],
   "source": [
    "trainPrediction = knn.predict(xTrain)\n",
    "testPrediction = knn.predict(xTest)\n",
    "\n",
    "trainAndTestErrors = pd.concat([measureErrors(yTrain, trainPrediction, 'train'), measureErrors(yTest, testPrediction, 'test')], axis=1)\n",
    "\n",
    "trainAndTestErrors"
   ]
  },
  {
   "cell_type": "code",
   "execution_count": 24,
   "metadata": {},
   "outputs": [],
   "source": [
    "import pickle;\n",
    "pickle.dump(knn, open('dt.sav', 'wb'));"
   ]
  },
  {
   "cell_type": "code",
   "execution_count": null,
   "metadata": {},
   "outputs": [],
   "source": []
  }
 ]
}
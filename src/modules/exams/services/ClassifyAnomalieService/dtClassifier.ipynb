{
 "metadata": {
  "language_info": {
   "codemirror_mode": {
    "name": "ipython",
    "version": 3
   },
   "file_extension": ".py",
   "mimetype": "text/x-python",
   "name": "python",
   "nbconvert_exporter": "python",
   "pygments_lexer": "ipython3",
   "version": "3.8.6-final"
  },
  "orig_nbformat": 2,
  "kernelspec": {
   "name": "python3",
   "display_name": "Python 3"
  }
 },
 "nbformat": 4,
 "nbformat_minor": 2,
 "cells": [
  {
   "cell_type": "code",
   "execution_count": 2,
   "metadata": {},
   "outputs": [],
   "source": [
    "import numpy as np\n",
    "import pandas as pd\n",
    "from sklearn.tree import DecisionTreeClassifier\n",
    "from sklearn.metrics import accuracy_score, roc_auc_score, recall_score, precision_score \n",
    "from sklearn.model_selection import  StratifiedShuffleSplit"
   ]
  },
  {
   "cell_type": "code",
   "execution_count": 3,
   "metadata": {},
   "outputs": [
    {
     "output_type": "execute_result",
     "data": {
      "text/plain": [
       "   xCentroid  yCentroid   arcLength    area  eccentricity        diagnosis\n",
       "0        125        491  103.941125   573.0          0.87  notDegenerative\n",
       "1        124        431  168.610172  1004.5          0.86  notDegenerative\n",
       "2         29        453   98.083260   444.0          0.90  notDegenerative\n",
       "3        110        150   97.012193   347.5          0.84  notDegenerative\n",
       "4        135        216   95.597979   207.0          0.73     degenerative"
      ],
      "text/html": "<div>\n<style scoped>\n    .dataframe tbody tr th:only-of-type {\n        vertical-align: middle;\n    }\n\n    .dataframe tbody tr th {\n        vertical-align: top;\n    }\n\n    .dataframe thead th {\n        text-align: right;\n    }\n</style>\n<table border=\"1\" class=\"dataframe\">\n  <thead>\n    <tr style=\"text-align: right;\">\n      <th></th>\n      <th>xCentroid</th>\n      <th>yCentroid</th>\n      <th>arcLength</th>\n      <th>area</th>\n      <th>eccentricity</th>\n      <th>diagnosis</th>\n    </tr>\n  </thead>\n  <tbody>\n    <tr>\n      <th>0</th>\n      <td>125</td>\n      <td>491</td>\n      <td>103.941125</td>\n      <td>573.0</td>\n      <td>0.87</td>\n      <td>notDegenerative</td>\n    </tr>\n    <tr>\n      <th>1</th>\n      <td>124</td>\n      <td>431</td>\n      <td>168.610172</td>\n      <td>1004.5</td>\n      <td>0.86</td>\n      <td>notDegenerative</td>\n    </tr>\n    <tr>\n      <th>2</th>\n      <td>29</td>\n      <td>453</td>\n      <td>98.083260</td>\n      <td>444.0</td>\n      <td>0.90</td>\n      <td>notDegenerative</td>\n    </tr>\n    <tr>\n      <th>3</th>\n      <td>110</td>\n      <td>150</td>\n      <td>97.012193</td>\n      <td>347.5</td>\n      <td>0.84</td>\n      <td>notDegenerative</td>\n    </tr>\n    <tr>\n      <th>4</th>\n      <td>135</td>\n      <td>216</td>\n      <td>95.597979</td>\n      <td>207.0</td>\n      <td>0.73</td>\n      <td>degenerative</td>\n    </tr>\n  </tbody>\n</table>\n</div>"
     },
     "metadata": {},
     "execution_count": 3
    }
   ],
   "source": [
    "data = pd.read_csv('./database.csv')"
   ]
  },
  {
   "cell_type": "code",
   "execution_count": 4,
   "metadata": {},
   "outputs": [
    {
     "output_type": "execute_result",
     "data": {
      "text/plain": [
       "   xCentroid  yCentroid  arcLength      area  eccentricity  diagnosis\n",
       "0        125        491   0.616458  0.570433          0.87          0\n",
       "1        124        431   1.000000  1.000000          0.86          0\n",
       "2         29        453   0.581716  0.442011          0.90          0\n",
       "3        110        150   0.575364  0.345943          0.84          0\n",
       "4        135        216   0.566976  0.206073          0.73          1"
      ],
      "text/html": "<div>\n<style scoped>\n    .dataframe tbody tr th:only-of-type {\n        vertical-align: middle;\n    }\n\n    .dataframe tbody tr th {\n        vertical-align: top;\n    }\n\n    .dataframe thead th {\n        text-align: right;\n    }\n</style>\n<table border=\"1\" class=\"dataframe\">\n  <thead>\n    <tr style=\"text-align: right;\">\n      <th></th>\n      <th>xCentroid</th>\n      <th>yCentroid</th>\n      <th>arcLength</th>\n      <th>area</th>\n      <th>eccentricity</th>\n      <th>diagnosis</th>\n    </tr>\n  </thead>\n  <tbody>\n    <tr>\n      <th>0</th>\n      <td>125</td>\n      <td>491</td>\n      <td>0.616458</td>\n      <td>0.570433</td>\n      <td>0.87</td>\n      <td>0</td>\n    </tr>\n    <tr>\n      <th>1</th>\n      <td>124</td>\n      <td>431</td>\n      <td>1.000000</td>\n      <td>1.000000</td>\n      <td>0.86</td>\n      <td>0</td>\n    </tr>\n    <tr>\n      <th>2</th>\n      <td>29</td>\n      <td>453</td>\n      <td>0.581716</td>\n      <td>0.442011</td>\n      <td>0.90</td>\n      <td>0</td>\n    </tr>\n    <tr>\n      <th>3</th>\n      <td>110</td>\n      <td>150</td>\n      <td>0.575364</td>\n      <td>0.345943</td>\n      <td>0.84</td>\n      <td>0</td>\n    </tr>\n    <tr>\n      <th>4</th>\n      <td>135</td>\n      <td>216</td>\n      <td>0.566976</td>\n      <td>0.206073</td>\n      <td>0.73</td>\n      <td>1</td>\n    </tr>\n  </tbody>\n</table>\n</div>"
     },
     "metadata": {},
     "execution_count": 4
    }
   ],
   "source": [
    "data.diagnosis = data.diagnosis.map({\n",
    "    'degenerative': 1,\n",
    "    'notDegenerative': 0\n",
    "}).astype(np.int)\n",
    "maxArcLength = data.arcLength.max()\n",
    "data.arcLength = data.arcLength / maxArcLength\n",
    "maxArea = data.area.max()\n",
    "data.area = data.area / maxArea\n",
    "data.head()"
   ]
  },
  {
   "cell_type": "code",
   "execution_count": 10,
   "metadata": {},
   "outputs": [],
   "source": [
    "featuresColumns = [x for x in data.columns if x not in 'diagnosis']\n",
    "stf = StratifiedShuffleSplit(n_splits=1, test_size=2, random_state=42)\n",
    "trainIdx, testIdx = next(stf.split(data[featuresColumns], data['diagnosis']))\n",
    "\n",
    "xTrain = data.loc[trainIdx, featuresColumns]\n",
    "yTrain = data.loc[trainIdx, 'diagnosis']\n",
    "\n",
    "xTest = data.loc[testIdx, featuresColumns]\n",
    "yTest = data.loc[testIdx, 'diagnosis']"
   ]
  },
  {
   "cell_type": "code",
   "execution_count": 11,
   "metadata": {},
   "outputs": [
    {
     "output_type": "execute_result",
     "data": {
      "text/plain": [
       "DecisionTreeClassifier(random_state=42)"
      ]
     },
     "metadata": {},
     "execution_count": 11
    }
   ],
   "source": [
    "dt = DecisionTreeClassifier(random_state=42)\n",
    "dt.fit(xTrain, yTrain)"
   ]
  },
  {
   "cell_type": "code",
   "execution_count": 12,
   "metadata": {},
   "outputs": [
    {
     "output_type": "execute_result",
     "data": {
      "text/plain": [
       "(3, 1)"
      ]
     },
     "metadata": {},
     "execution_count": 12
    }
   ],
   "source": [
    "dt.tree_.node_count, dt.tree_.max_depth"
   ]
  },
  {
   "cell_type": "code",
   "execution_count": 13,
   "metadata": {},
   "outputs": [],
   "source": [
    "def measureError(yTrue, yGuess, label):\n",
    "    return pd.Series({\n",
    "        'accuracy': accuracy_score(y_true=yTrue, y_pred=yGuess),\n",
    "        'precision': precision_score(y_true=yTrue, y_pred=yGuess),\n",
    "        'recall': recall_score(y_true=yTrue, y_pred=yGuess),\n",
    "        'roc': roc_auc_score(y_true=yTrue, y_pred=yGuess)\n",
    "        },name=label\n",
    "    )"
   ]
  },
  {
   "cell_type": "code",
   "execution_count": null,
   "metadata": {},
   "outputs": [],
   "source": []
  }
 ]
}
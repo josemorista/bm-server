{
 "metadata": {
  "language_info": {
   "codemirror_mode": {
    "name": "ipython",
    "version": 3
   },
   "file_extension": ".py",
   "mimetype": "text/x-python",
   "name": "python",
   "nbconvert_exporter": "python",
   "pygments_lexer": "ipython3",
   "version": "3.8.6-final"
  },
  "orig_nbformat": 2,
  "kernelspec": {
   "name": "python3",
   "display_name": "Python 3"
  }
 },
 "nbformat": 4,
 "nbformat_minor": 2,
 "cells": [
  {
   "cell_type": "code",
   "execution_count": 1,
   "metadata": {},
   "outputs": [],
   "source": [
    "import numpy as np\n",
    "import pandas as pd\n",
    "from sklearn import svm\n",
    "from sklearn.metrics import accuracy_score, roc_auc_score, recall_score, precision_score \n",
    "from sklearn.model_selection import  StratifiedShuffleSplit"
   ]
  },
  {
   "cell_type": "code",
   "execution_count": 2,
   "metadata": {},
   "outputs": [
    {
     "output_type": "execute_result",
     "data": {
      "text/plain": [
       "(39, 12)"
      ]
     },
     "metadata": {},
     "execution_count": 2
    }
   ],
   "source": [
    "data = pd.read_csv('./database.csv')\n",
    "data.shape"
   ]
  },
  {
   "cell_type": "code",
   "execution_count": 3,
   "metadata": {},
   "outputs": [
    {
     "output_type": "execute_result",
     "data": {
      "text/plain": [
       "   xCentroid  yCentroid  aspectRatio      area    extent  arcLength  solidity  \\\n",
       "0   0.538961   0.181295     0.086318  0.902599  0.490426   1.000000  0.348669   \n",
       "1   0.493506   0.497842     0.985124  0.375628  0.760615   0.334632  0.693641   \n",
       "2   0.649351   0.070504     0.501226  0.286744  0.796954   0.324233  0.624906   \n",
       "3   0.149351   0.159712     0.581621  0.049137  0.451644   0.123115  0.473642   \n",
       "4   0.675325   0.751079     0.918860  0.040620  0.636463   0.101409  0.535957   \n",
       "\n",
       "    meanVal  equiDiameter  eccentricity  orientation  label  \n",
       "0  0.398960      0.947723          0.93     0.000000      1  \n",
       "1  0.875623      0.595092          0.87     0.531667      0  \n",
       "2  0.677443      0.514259          0.78     0.328502      1  \n",
       "3  0.425056      0.188409          0.86     0.327245      1  \n",
       "4  0.250799      0.167819          0.88     0.476822      1  "
      ],
      "text/html": "<div>\n<style scoped>\n    .dataframe tbody tr th:only-of-type {\n        vertical-align: middle;\n    }\n\n    .dataframe tbody tr th {\n        vertical-align: top;\n    }\n\n    .dataframe thead th {\n        text-align: right;\n    }\n</style>\n<table border=\"1\" class=\"dataframe\">\n  <thead>\n    <tr style=\"text-align: right;\">\n      <th></th>\n      <th>xCentroid</th>\n      <th>yCentroid</th>\n      <th>aspectRatio</th>\n      <th>area</th>\n      <th>extent</th>\n      <th>arcLength</th>\n      <th>solidity</th>\n      <th>meanVal</th>\n      <th>equiDiameter</th>\n      <th>eccentricity</th>\n      <th>orientation</th>\n      <th>label</th>\n    </tr>\n  </thead>\n  <tbody>\n    <tr>\n      <th>0</th>\n      <td>0.538961</td>\n      <td>0.181295</td>\n      <td>0.086318</td>\n      <td>0.902599</td>\n      <td>0.490426</td>\n      <td>1.000000</td>\n      <td>0.348669</td>\n      <td>0.398960</td>\n      <td>0.947723</td>\n      <td>0.93</td>\n      <td>0.000000</td>\n      <td>1</td>\n    </tr>\n    <tr>\n      <th>1</th>\n      <td>0.493506</td>\n      <td>0.497842</td>\n      <td>0.985124</td>\n      <td>0.375628</td>\n      <td>0.760615</td>\n      <td>0.334632</td>\n      <td>0.693641</td>\n      <td>0.875623</td>\n      <td>0.595092</td>\n      <td>0.87</td>\n      <td>0.531667</td>\n      <td>0</td>\n    </tr>\n    <tr>\n      <th>2</th>\n      <td>0.649351</td>\n      <td>0.070504</td>\n      <td>0.501226</td>\n      <td>0.286744</td>\n      <td>0.796954</td>\n      <td>0.324233</td>\n      <td>0.624906</td>\n      <td>0.677443</td>\n      <td>0.514259</td>\n      <td>0.78</td>\n      <td>0.328502</td>\n      <td>1</td>\n    </tr>\n    <tr>\n      <th>3</th>\n      <td>0.149351</td>\n      <td>0.159712</td>\n      <td>0.581621</td>\n      <td>0.049137</td>\n      <td>0.451644</td>\n      <td>0.123115</td>\n      <td>0.473642</td>\n      <td>0.425056</td>\n      <td>0.188409</td>\n      <td>0.86</td>\n      <td>0.327245</td>\n      <td>1</td>\n    </tr>\n    <tr>\n      <th>4</th>\n      <td>0.675325</td>\n      <td>0.751079</td>\n      <td>0.918860</td>\n      <td>0.040620</td>\n      <td>0.636463</td>\n      <td>0.101409</td>\n      <td>0.535957</td>\n      <td>0.250799</td>\n      <td>0.167819</td>\n      <td>0.88</td>\n      <td>0.476822</td>\n      <td>1</td>\n    </tr>\n  </tbody>\n</table>\n</div>"
     },
     "metadata": {},
     "execution_count": 3
    }
   ],
   "source": [
    "data.label = data.label.map({\n",
    "    'degenerativeOsteoarticular': 0,\n",
    "    'osteoblasticImplant': 1,\n",
    "    'bladder': 0,\n",
    "    'sinusopathy': 0,\n",
    "    'alvelodental': 0\n",
    "}).astype(np.int)\n",
    "\n",
    "data.xCentroid= (data.xCentroid - data.xCentroid.min()) / (data.xCentroid.max() - data.xCentroid.min())\n",
    "data.yCentroid= (data.yCentroid - data.yCentroid.min()) / (data.yCentroid.max() - data.yCentroid.min())\n",
    "data.orientation = (data.orientation  - data.orientation.min()) / (data.orientation.max() - data.orientation.min())\n",
    "data.equiDiameter= (data.equiDiameter - data.equiDiameter.min()) / (data.equiDiameter.max() - data.equiDiameter.min())\n",
    "data.meanVal= (data.meanVal - data.meanVal.min()) / (data.meanVal.max() - data.meanVal.min())\n",
    "data.solidity= (data.solidity - data.solidity.min()) / (data.solidity.max() - data.solidity.min())\n",
    "data.extent= (data.extent - data.extent.min()) / (data.extent.max() - data.extent.min())\n",
    "data.aspectRatio= (data.aspectRatio - data.aspectRatio.min()) / (data.aspectRatio.max() - data.aspectRatio.min())\n",
    "data.area = (data.area - data.area.min()) / (data.area.max() - data.area.min())\n",
    "data.arcLength = (data.arcLength - data.arcLength.min()) / (data.arcLength.max() - data.arcLength.min())\n",
    "\n",
    "data.head()"
   ]
  },
  {
   "cell_type": "code",
   "execution_count": 4,
   "metadata": {},
   "outputs": [],
   "source": [
    "featuresColumns = [x for x in data.columns if x not in 'label']\n",
    "stf = StratifiedShuffleSplit(n_splits=1, test_size=10, random_state=42)\n",
    "trainIdx, testIdx = next(stf.split(data[featuresColumns], data['label']))\n",
    "\n",
    "xTrain = data.loc[trainIdx, featuresColumns]\n",
    "yTrain = data.loc[trainIdx, 'label']\n",
    "\n",
    "xTest = data.loc[testIdx, featuresColumns]\n",
    "yTest = data.loc[testIdx, 'label']"
   ]
  },
  {
   "cell_type": "code",
   "execution_count": 5,
   "metadata": {},
   "outputs": [
    {
     "output_type": "execute_result",
     "data": {
      "text/plain": [
       "SVC()"
      ]
     },
     "metadata": {},
     "execution_count": 5
    }
   ],
   "source": [
    "sv = svm.SVC()\n",
    "sv.fit(xTrain, yTrain)"
   ]
  },
  {
   "cell_type": "code",
   "execution_count": 6,
   "metadata": {},
   "outputs": [],
   "source": [
    "def measureErrors(yTrue, yGuess, label):\n",
    "    return pd.Series({\n",
    "        'accuracy': accuracy_score(y_true=yTrue, y_pred=yGuess),\n",
    "        'precision': precision_score(y_true=yTrue, y_pred=yGuess),\n",
    "        'recall': recall_score(y_true=yTrue, y_pred=yGuess),\n",
    "        'roc': roc_auc_score(yTrue,yGuess)\n",
    "        },name=label\n",
    "    )"
   ]
  },
  {
   "cell_type": "code",
   "execution_count": 7,
   "metadata": {},
   "outputs": [
    {
     "output_type": "execute_result",
     "data": {
      "text/plain": [
       "              train      test\n",
       "accuracy   0.931034  0.400000\n",
       "precision  1.000000  0.333333\n",
       "recall     0.857143  0.200000\n",
       "roc        0.928571  0.400000"
      ],
      "text/html": "<div>\n<style scoped>\n    .dataframe tbody tr th:only-of-type {\n        vertical-align: middle;\n    }\n\n    .dataframe tbody tr th {\n        vertical-align: top;\n    }\n\n    .dataframe thead th {\n        text-align: right;\n    }\n</style>\n<table border=\"1\" class=\"dataframe\">\n  <thead>\n    <tr style=\"text-align: right;\">\n      <th></th>\n      <th>train</th>\n      <th>test</th>\n    </tr>\n  </thead>\n  <tbody>\n    <tr>\n      <th>accuracy</th>\n      <td>0.931034</td>\n      <td>0.400000</td>\n    </tr>\n    <tr>\n      <th>precision</th>\n      <td>1.000000</td>\n      <td>0.333333</td>\n    </tr>\n    <tr>\n      <th>recall</th>\n      <td>0.857143</td>\n      <td>0.200000</td>\n    </tr>\n    <tr>\n      <th>roc</th>\n      <td>0.928571</td>\n      <td>0.400000</td>\n    </tr>\n  </tbody>\n</table>\n</div>"
     },
     "metadata": {},
     "execution_count": 7
    }
   ],
   "source": [
    "trainPrediction = sv.predict(xTrain)\n",
    "testPrediction = sv.predict(xTest)\n",
    "\n",
    "trainAndTestErrors = pd.concat([measureErrors(yTrain, trainPrediction, 'train'), measureErrors(yTest, testPrediction, 'test')], axis=1)\n",
    "\n",
    "trainAndTestErrors"
   ]
  }
 ]
}
{
 "metadata": {
  "language_info": {
   "codemirror_mode": {
    "name": "ipython",
    "version": 3
   },
   "file_extension": ".py",
   "mimetype": "text/x-python",
   "name": "python",
   "nbconvert_exporter": "python",
   "pygments_lexer": "ipython3",
   "version": "3.8.6-final"
  },
  "orig_nbformat": 2,
  "kernelspec": {
   "name": "python3",
   "display_name": "Python 3"
  }
 },
 "nbformat": 4,
 "nbformat_minor": 2,
 "cells": [
  {
   "cell_type": "code",
   "execution_count": 4,
   "metadata": {},
   "outputs": [],
   "source": [
    "import pydicom as dicom\n",
    "import numpy as np\n",
    "import sys\n",
    "import cv2 as cv\n",
    "import imutils\n",
    "import json\n",
    "from math import sqrt, pow"
   ]
  },
  {
   "cell_type": "code",
   "execution_count": 5,
   "metadata": {},
   "outputs": [],
   "source": [
    "def linearTransform(x, minimum, maximum, a, b):\n",
    "    return ((b - a) * ((x - minimum) / (maximum - minimum)) + a)\n",
    "\n",
    "\n",
    "def getSegmentedPixelColor(value, minimum, maximum):\n",
    "    if value >= minimum and value <= maximum:\n",
    "        return linearTransform(value, 0, 255, minimum, maximum)\n",
    "    return 0\n",
    "\n",
    "\n",
    "def getSegmentedBGR(pixelArray, rows, cols, minimum, maximum):\n",
    "    image = np.zeros((rows, cols, 3), np.uint8)\n",
    "    for i in range(rows):\n",
    "        for j in range(cols):\n",
    "            image[i][j][0] = image[i][j][1] = image[i][j][2] = getSegmentedPixelColor(\n",
    "                pixelArray[i][j], minimum, maximum)\n",
    "    return image"
   ]
  },
  {
   "cell_type": "code",
   "execution_count": 6,
   "metadata": {},
   "outputs": [],
   "source": [
    "def executeSegmentation(src, minimum, maximum, output):\n",
    "    ds = dicom.dcmread(src)\n",
    "\n",
    "    rows = ds.Rows\n",
    "    cols = ds.Columns\n",
    "\n",
    "    patientId = ds.PatientID\n",
    "    im = getSegmentedBGR(ds.pixel_array, rows, cols, minimum, maximum)\n",
    "\n",
    "    im = cv.cvtColor(im, cv.COLOR_BGR2GRAY)\n",
    "\n",
    "    cv.imwrite(output, im)"
   ]
  },
  {
   "cell_type": "code",
   "execution_count": 3,
   "metadata": {},
   "outputs": [],
   "source": [
    "def executeFilters(src, out, operation, kernelParam=2):\n",
    "    img = cv.imread(src, 0)\n",
    "\n",
    "    if operation is 'erode':\n",
    "        kernelSize = int(kernelParam)\n",
    "        kernel = np.ones((kernelSize,kernelSize),np.uint8)\n",
    "        img = cv.erode(img, kernel, iterations=1)\n",
    "\n",
    "    if operation is 'dilate':\n",
    "        kernelSize = int(kernelParam)\n",
    "        kernel = np.ones((kernelSize,kernelSize),np.uint8)\n",
    "        img = cv.dilate(img,kernel,iterations = 1)\n",
    "\n",
    "    cv.imwrite(out, img)"
   ]
  },
  {
   "cell_type": "code",
   "execution_count": 139,
   "metadata": {},
   "outputs": [],
   "source": [
    "def executeGrabFeatures(src, out, minArea=5, drawLabel=True):\n",
    "    img = cv.imread(src, 0)\n",
    "    labeled = cv.cvtColor(img, 0, cv.COLOR_GRAY2BGR)\n",
    "    contours, hierarchy = cv.findContours(img, cv.RETR_EXTERNAL,  cv.CHAIN_APPROX_NONE)\n",
    "    # Sort by larger areas\n",
    "    contoursFeatures = []\n",
    "    cnts = sorted(contours, key=cv.contourArea, reverse=True)\n",
    "    cntsToDraw = []\n",
    "    for i in range(0, len(cnts)):\n",
    "        if cv.contourArea(cnts[i]) >= minArea:\n",
    "            cntsToDraw.append(cnts[i])\n",
    "            features = {}\n",
    "            M = cv.moments(cnts[i])\n",
    "            centroid = (int(M['m10'] / M['m00']), int(M['m01'] / M['m00']))\n",
    "            features['xCentroid'] = centroid[0]\n",
    "            features['yCentroid'] = centroid[1]\n",
    "            features['arcLength'] = cv.arcLength(cnts[i], True)\n",
    "            features['area'] = cv.contourArea(cnts[i])\n",
    "            if drawLabel:\n",
    "                cv.putText(labeled, str(i), (centroid[0], centroid[1]), cv.FONT_HERSHEY_SIMPLEX, 1, (209, 80, 0, 255), 2)\n",
    "            try:\n",
    "                # Calculate eccentricity\n",
    "                (x, y), (MA, ma), angle = cv.fitEllipse(cnts[i])\n",
    "                a = ma/2\n",
    "                b = MA/2\n",
    "\n",
    "                if (a > b):\n",
    "                    eccentricity = sqrt(pow(a, 2)-pow(b, 2))\n",
    "                    eccentricity = round(eccentricity/a, 2)\n",
    "                else:\n",
    "                    eccentricity = sqrt(pow(b, 2)-pow(a, 2))\n",
    "                    eccentricity = round(eccentricity/b, 2)\n",
    "\n",
    "                features['eccentricity'] = eccentricity\n",
    "            except:\n",
    "                features['eccentricity'] = -1\n",
    "            contoursFeatures.append(features)\n",
    "    f = open(out, 'w')\n",
    "    f.write(json.dumps(contoursFeatures))\n",
    "    if drawLabel:\n",
    "        #cv.drawContours(labeled, cntsToDraw, -1, (0, 0,255), 3) \n",
    "        cv.imwrite(src.replace('.png', 'labeled.png'), labeled)"
   ]
  },
  {
   "cell_type": "code",
   "execution_count": 148,
   "metadata": {},
   "outputs": [],
   "source": [
    "def execute(src):\n",
    "    executeSegmentation(src, 42, 400, './seg.png')\n",
    "    executeFilters('./seg.png', './erode.png', 'erode', 2)\n",
    "    executeFilters('./erode.png', './dilate.png', 'dilate')\n",
    "    executeGrabFeatures('./dilate.png', 'features.json')"
   ]
  },
  {
   "cell_type": "code",
   "execution_count": 149,
   "metadata": {},
   "outputs": [],
   "source": [
    "execute('./ANTERIOR002_DS.dcm')"
   ]
  }
 ]
}
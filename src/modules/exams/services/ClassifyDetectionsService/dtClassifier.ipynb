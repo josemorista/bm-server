{
 "metadata": {
  "language_info": {
   "codemirror_mode": {
    "name": "ipython",
    "version": 3
   },
   "file_extension": ".py",
   "mimetype": "text/x-python",
   "name": "python",
   "nbconvert_exporter": "python",
   "pygments_lexer": "ipython3",
   "version": "3.8.6-final"
  },
  "orig_nbformat": 2,
  "kernelspec": {
   "name": "python3",
   "display_name": "Python 3",
   "language": "python"
  }
 },
 "nbformat": 4,
 "nbformat_minor": 2,
 "cells": [
  {
   "cell_type": "code",
   "execution_count": 11,
   "metadata": {},
   "outputs": [],
   "source": [
    "import numpy as np\n",
    "import pandas as pd\n",
    "from sklearn.tree import DecisionTreeClassifier\n",
    "from sklearn.metrics import accuracy_score, roc_auc_score, recall_score, precision_score \n",
    "from sklearn.model_selection import  StratifiedShuffleSplit"
   ]
  },
  {
   "cell_type": "code",
   "execution_count": 12,
   "metadata": {},
   "outputs": [
    {
     "output_type": "execute_result",
     "data": {
      "text/plain": [
       "                                  label  area   perimeter  aspectratio  \\\n",
       "0  e3b044b1-c1db-4d71-9c08-a9c760730fd5    46   23.071068     1.142857   \n",
       "1  e3b044b1-c1db-4d71-9c08-a9c760730fd5    15   11.414214     1.000000   \n",
       "2  e3b044b1-c1db-4d71-9c08-a9c760730fd5    65   27.313708     1.250000   \n",
       "3  e3b044b1-c1db-4d71-9c08-a9c760730fd5   756  171.438600     0.767857   \n",
       "4  e3b044b1-c1db-4d71-9c08-a9c760730fd5    14   10.828427     1.000000   \n",
       "\n",
       "    centroidx   centroidy  equivalentdiameter    extent  meanintensity  \\\n",
       "0  175.391304  235.934783            7.653040  0.821429       0.385848   \n",
       "1  150.600000  237.400000            4.370194  0.937500       0.371765   \n",
       "2   65.769231  221.476923            9.097284  0.812500       0.398492   \n",
       "3   77.374339  450.341270           31.025298  0.313953       0.447692   \n",
       "4   98.500000  426.500000            4.222008  0.875000       0.368347   \n",
       "\n",
       "   orientation  eccentricity  \n",
       "0     1.160695      0.624644  \n",
       "1     0.785398      0.489898  \n",
       "2     1.239514      0.669442  \n",
       "3     0.647034      0.969795  \n",
       "4    -0.785398      0.670820  "
      ],
      "text/html": "<div>\n<style scoped>\n    .dataframe tbody tr th:only-of-type {\n        vertical-align: middle;\n    }\n\n    .dataframe tbody tr th {\n        vertical-align: top;\n    }\n\n    .dataframe thead th {\n        text-align: right;\n    }\n</style>\n<table border=\"1\" class=\"dataframe\">\n  <thead>\n    <tr style=\"text-align: right;\">\n      <th></th>\n      <th>label</th>\n      <th>area</th>\n      <th>perimeter</th>\n      <th>aspectratio</th>\n      <th>centroidx</th>\n      <th>centroidy</th>\n      <th>equivalentdiameter</th>\n      <th>extent</th>\n      <th>meanintensity</th>\n      <th>orientation</th>\n      <th>eccentricity</th>\n    </tr>\n  </thead>\n  <tbody>\n    <tr>\n      <th>0</th>\n      <td>e3b044b1-c1db-4d71-9c08-a9c760730fd5</td>\n      <td>46</td>\n      <td>23.071068</td>\n      <td>1.142857</td>\n      <td>175.391304</td>\n      <td>235.934783</td>\n      <td>7.653040</td>\n      <td>0.821429</td>\n      <td>0.385848</td>\n      <td>1.160695</td>\n      <td>0.624644</td>\n    </tr>\n    <tr>\n      <th>1</th>\n      <td>e3b044b1-c1db-4d71-9c08-a9c760730fd5</td>\n      <td>15</td>\n      <td>11.414214</td>\n      <td>1.000000</td>\n      <td>150.600000</td>\n      <td>237.400000</td>\n      <td>4.370194</td>\n      <td>0.937500</td>\n      <td>0.371765</td>\n      <td>0.785398</td>\n      <td>0.489898</td>\n    </tr>\n    <tr>\n      <th>2</th>\n      <td>e3b044b1-c1db-4d71-9c08-a9c760730fd5</td>\n      <td>65</td>\n      <td>27.313708</td>\n      <td>1.250000</td>\n      <td>65.769231</td>\n      <td>221.476923</td>\n      <td>9.097284</td>\n      <td>0.812500</td>\n      <td>0.398492</td>\n      <td>1.239514</td>\n      <td>0.669442</td>\n    </tr>\n    <tr>\n      <th>3</th>\n      <td>e3b044b1-c1db-4d71-9c08-a9c760730fd5</td>\n      <td>756</td>\n      <td>171.438600</td>\n      <td>0.767857</td>\n      <td>77.374339</td>\n      <td>450.341270</td>\n      <td>31.025298</td>\n      <td>0.313953</td>\n      <td>0.447692</td>\n      <td>0.647034</td>\n      <td>0.969795</td>\n    </tr>\n    <tr>\n      <th>4</th>\n      <td>e3b044b1-c1db-4d71-9c08-a9c760730fd5</td>\n      <td>14</td>\n      <td>10.828427</td>\n      <td>1.000000</td>\n      <td>98.500000</td>\n      <td>426.500000</td>\n      <td>4.222008</td>\n      <td>0.875000</td>\n      <td>0.368347</td>\n      <td>-0.785398</td>\n      <td>0.670820</td>\n    </tr>\n  </tbody>\n</table>\n</div>"
     },
     "metadata": {},
     "execution_count": 12
    }
   ],
   "source": [
    "data = pd.read_csv('./database.csv')\n",
    "data.shape\n",
    "data.head()"
   ]
  },
  {
   "cell_type": "code",
   "execution_count": 13,
   "metadata": {},
   "outputs": [
    {
     "output_type": "execute_result",
     "data": {
      "text/plain": [
       "   label      area  perimeter  aspectratio  centroidx  centroidy  \\\n",
       "0      0  0.005508   0.016201     0.502741   0.732475   0.278592   \n",
       "1      0  0.001015   0.003670     0.419865   0.609141   0.283081   \n",
       "2      0  0.008262   0.020761     0.564898   0.187115   0.234289   \n",
       "3      0  0.108422   0.175688     0.285190   0.244849   0.935589   \n",
       "4      0  0.000870   0.003040     0.419865   0.349948   0.862533   \n",
       "\n",
       "   equivalentdiameter    extent  meanintensity  orientation  eccentricity  \n",
       "0            0.049251  0.739709       0.062515     0.863889      0.624644  \n",
       "1            0.013011  0.908898       0.029129     0.739329      0.489898  \n",
       "2            0.065195  0.726695       0.092487     0.890049      0.669442  \n",
       "3            0.307263  0.000000       0.209120     0.693407      0.969795  \n",
       "4            0.011376  0.817797       0.021028     0.217988      0.670820  "
      ],
      "text/html": "<div>\n<style scoped>\n    .dataframe tbody tr th:only-of-type {\n        vertical-align: middle;\n    }\n\n    .dataframe tbody tr th {\n        vertical-align: top;\n    }\n\n    .dataframe thead th {\n        text-align: right;\n    }\n</style>\n<table border=\"1\" class=\"dataframe\">\n  <thead>\n    <tr style=\"text-align: right;\">\n      <th></th>\n      <th>label</th>\n      <th>area</th>\n      <th>perimeter</th>\n      <th>aspectratio</th>\n      <th>centroidx</th>\n      <th>centroidy</th>\n      <th>equivalentdiameter</th>\n      <th>extent</th>\n      <th>meanintensity</th>\n      <th>orientation</th>\n      <th>eccentricity</th>\n    </tr>\n  </thead>\n  <tbody>\n    <tr>\n      <th>0</th>\n      <td>0</td>\n      <td>0.005508</td>\n      <td>0.016201</td>\n      <td>0.502741</td>\n      <td>0.732475</td>\n      <td>0.278592</td>\n      <td>0.049251</td>\n      <td>0.739709</td>\n      <td>0.062515</td>\n      <td>0.863889</td>\n      <td>0.624644</td>\n    </tr>\n    <tr>\n      <th>1</th>\n      <td>0</td>\n      <td>0.001015</td>\n      <td>0.003670</td>\n      <td>0.419865</td>\n      <td>0.609141</td>\n      <td>0.283081</td>\n      <td>0.013011</td>\n      <td>0.908898</td>\n      <td>0.029129</td>\n      <td>0.739329</td>\n      <td>0.489898</td>\n    </tr>\n    <tr>\n      <th>2</th>\n      <td>0</td>\n      <td>0.008262</td>\n      <td>0.020761</td>\n      <td>0.564898</td>\n      <td>0.187115</td>\n      <td>0.234289</td>\n      <td>0.065195</td>\n      <td>0.726695</td>\n      <td>0.092487</td>\n      <td>0.890049</td>\n      <td>0.669442</td>\n    </tr>\n    <tr>\n      <th>3</th>\n      <td>0</td>\n      <td>0.108422</td>\n      <td>0.175688</td>\n      <td>0.285190</td>\n      <td>0.244849</td>\n      <td>0.935589</td>\n      <td>0.307263</td>\n      <td>0.000000</td>\n      <td>0.209120</td>\n      <td>0.693407</td>\n      <td>0.969795</td>\n    </tr>\n    <tr>\n      <th>4</th>\n      <td>0</td>\n      <td>0.000870</td>\n      <td>0.003040</td>\n      <td>0.419865</td>\n      <td>0.349948</td>\n      <td>0.862533</td>\n      <td>0.011376</td>\n      <td>0.817797</td>\n      <td>0.021028</td>\n      <td>0.217988</td>\n      <td>0.670820</td>\n    </tr>\n  </tbody>\n</table>\n</div>"
     },
     "metadata": {},
     "execution_count": 13
    }
   ],
   "source": [
    "\n",
    "data.label = data.label.map({\n",
    "    '580a2665-d0e8-4d36-81c2-c543eafa9671': 0,\n",
    "    '8eb39b0d-4c10-4b1f-9083-c8f48666a48c': 1,\n",
    "    '6ccb78b2-44e4-4aae-ab8b-23cde8585db9': 0,\n",
    "    'e3b044b1-c1db-4d71-9c08-a9c760730fd5': 0\n",
    "}).astype(np.int)\n",
    "\n",
    "data.centroidx= (data.centroidx - data.centroidx.min()) / (data.centroidx.max() - data.centroidx.min())\n",
    "data.centroidy= (data.centroidy - data.centroidy.min()) / (data.centroidy.max() - data.centroidy.min())\n",
    "data.orientation = (data.orientation  - data.orientation.min()) / (data.orientation.max() - data.orientation.min())\n",
    "data.perimeter= (data.perimeter - data.perimeter.min()) / (data.perimeter.max() - data.perimeter.min())\n",
    "data.meanintensity= (data.meanintensity - data.meanintensity.min()) / (data.meanintensity.max() - data.meanintensity.min())\n",
    "data.extent= (data.extent - data.extent.min()) / (data.extent.max() - data.extent.min())\n",
    "data.aspectratio= (data.aspectratio - data.aspectratio.min()) / (data.aspectratio.max() - data.aspectratio.min())\n",
    "data.area = (data.area - data.area.min()) / (data.area.max() - data.area.min())\n",
    "data.equivalentdiameter = (data.equivalentdiameter - data.equivalentdiameter.min()) / (data.equivalentdiameter.max() - data.equivalentdiameter.min())\n",
    "\n",
    "data.head()"
   ]
  },
  {
   "cell_type": "code",
   "execution_count": 14,
   "metadata": {},
   "outputs": [],
   "source": [
    "featuresColumns = [x for x in data.columns if x not in 'label']\n",
    "stf = StratifiedShuffleSplit(n_splits=1, test_size=10, random_state=42)\n",
    "trainIdx, testIdx = next(stf.split(data[featuresColumns], data['label']))\n",
    "\n",
    "xTrain = data.loc[trainIdx, featuresColumns]\n",
    "yTrain = data.loc[trainIdx, 'label']\n",
    "\n",
    "xTest = data.loc[testIdx, featuresColumns]\n",
    "yTest = data.loc[testIdx, 'label']"
   ]
  },
  {
   "cell_type": "code",
   "execution_count": 15,
   "metadata": {},
   "outputs": [
    {
     "output_type": "execute_result",
     "data": {
      "text/plain": [
       "DecisionTreeClassifier(random_state=42)"
      ]
     },
     "metadata": {},
     "execution_count": 15
    }
   ],
   "source": [
    "dt = DecisionTreeClassifier(random_state=42)\n",
    "dt.fit(xTrain, yTrain)"
   ]
  },
  {
   "cell_type": "code",
   "execution_count": 16,
   "metadata": {},
   "outputs": [
    {
     "output_type": "execute_result",
     "data": {
      "text/plain": [
       "(19, 5)"
      ]
     },
     "metadata": {},
     "execution_count": 16
    }
   ],
   "source": [
    "dt.tree_.node_count, dt.tree_.max_depth"
   ]
  },
  {
   "cell_type": "code",
   "execution_count": 17,
   "metadata": {},
   "outputs": [],
   "source": [
    "def measureErrors(yTrue, yGuess, label):\n",
    "    return pd.Series({\n",
    "        'accuracy': accuracy_score(y_true=yTrue, y_pred=yGuess),\n",
    "        'precision': precision_score(y_true=yTrue, y_pred=yGuess),\n",
    "        'recall': recall_score(y_true=yTrue, y_pred=yGuess),\n",
    "        'roc': roc_auc_score(yTrue,yGuess)\n",
    "        },name=label\n",
    "    )"
   ]
  },
  {
   "cell_type": "code",
   "execution_count": 18,
   "metadata": {},
   "outputs": [
    {
     "output_type": "execute_result",
     "data": {
      "text/plain": [
       "           train      test\n",
       "accuracy     1.0  0.900000\n",
       "precision    1.0  0.833333\n",
       "recall       1.0  1.000000\n",
       "roc          1.0  0.900000"
      ],
      "text/html": "<div>\n<style scoped>\n    .dataframe tbody tr th:only-of-type {\n        vertical-align: middle;\n    }\n\n    .dataframe tbody tr th {\n        vertical-align: top;\n    }\n\n    .dataframe thead th {\n        text-align: right;\n    }\n</style>\n<table border=\"1\" class=\"dataframe\">\n  <thead>\n    <tr style=\"text-align: right;\">\n      <th></th>\n      <th>train</th>\n      <th>test</th>\n    </tr>\n  </thead>\n  <tbody>\n    <tr>\n      <th>accuracy</th>\n      <td>1.0</td>\n      <td>0.900000</td>\n    </tr>\n    <tr>\n      <th>precision</th>\n      <td>1.0</td>\n      <td>0.833333</td>\n    </tr>\n    <tr>\n      <th>recall</th>\n      <td>1.0</td>\n      <td>1.000000</td>\n    </tr>\n    <tr>\n      <th>roc</th>\n      <td>1.0</td>\n      <td>0.900000</td>\n    </tr>\n  </tbody>\n</table>\n</div>"
     },
     "metadata": {},
     "execution_count": 18
    }
   ],
   "source": [
    "trainPrediction = dt.predict(xTrain)\n",
    "testPrediction = dt.predict(xTest)\n",
    "\n",
    "trainAndTestErrors = pd.concat([measureErrors(yTrain, trainPrediction, 'train'), measureErrors(yTest, testPrediction, 'test')], axis=1)\n",
    "\n",
    "trainAndTestErrors"
   ]
  }
 ]
}
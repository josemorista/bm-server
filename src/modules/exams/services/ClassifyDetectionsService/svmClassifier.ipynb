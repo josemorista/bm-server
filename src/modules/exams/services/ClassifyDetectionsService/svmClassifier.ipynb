{
 "metadata": {
  "language_info": {
   "codemirror_mode": {
    "name": "ipython",
    "version": 3
   },
   "file_extension": ".py",
   "mimetype": "text/x-python",
   "name": "python",
   "nbconvert_exporter": "python",
   "pygments_lexer": "ipython3",
   "version": "3.8.5-final"
  },
  "orig_nbformat": 2,
  "kernelspec": {
   "name": "python3",
   "display_name": "Python 3",
   "language": "python"
  }
 },
 "nbformat": 4,
 "nbformat_minor": 2,
 "cells": [
  {
   "cell_type": "code",
   "execution_count": 1,
   "metadata": {},
   "outputs": [],
   "source": [
    "import numpy as np\n",
    "import pandas as pd\n",
    "from sklearn import svm\n",
    "from sklearn.metrics import accuracy_score, roc_auc_score, recall_score, precision_score \n",
    "from sklearn.model_selection import  StratifiedShuffleSplit"
   ]
  },
  {
   "cell_type": "code",
   "execution_count": 2,
   "metadata": {},
   "outputs": [
    {
     "output_type": "execute_result",
     "data": {
      "text/plain": [
       "(77, 13)"
      ]
     },
     "metadata": {},
     "execution_count": 2
    }
   ],
   "source": [
    "data = pd.read_csv('./database.csv')\n",
    "data.shape"
   ]
  },
  {
   "cell_type": "code",
   "execution_count": 3,
   "metadata": {},
   "outputs": [
    {
     "output_type": "execute_result",
     "data": {
      "text/plain": [
       "   label      area  perimeter  aspectratio  centroidx  centroidy  \\\n",
       "0      0  0.326653   0.350579     0.949091   0.530454   0.842094   \n",
       "1      0  0.326653   0.350579     0.949091   0.530454   0.842094   \n",
       "2      0  0.334669   0.229176     0.040000   1.000000   0.894392   \n",
       "3      0  0.130261   0.086087     0.280000   0.040752   0.857569   \n",
       "4      1  0.100200   0.072654     0.440000   0.470218   0.208083   \n",
       "\n",
       "   equivalentdiameter    extent  meanintensity  orientation  eccentricity  \\\n",
       "0            0.534709  0.308178       0.333713     0.036288      0.811104   \n",
       "1            0.534709  0.308178       0.333713     0.036288      0.811104   \n",
       "2            0.542240  0.435063       0.684463     0.464267      0.874032   \n",
       "3            0.308730  0.720855       0.668596     0.545255      0.602152   \n",
       "4            0.261825  0.700916       0.334637     0.793856      0.418157   \n",
       "\n",
       "   dicompatientid  previouscancerdiagnosis  \n",
       "0               4                      1.0  \n",
       "1               4                      1.0  \n",
       "2               4                      1.0  \n",
       "3               4                      1.0  \n",
       "4               4                      1.0  "
      ],
      "text/html": "<div>\n<style scoped>\n    .dataframe tbody tr th:only-of-type {\n        vertical-align: middle;\n    }\n\n    .dataframe tbody tr th {\n        vertical-align: top;\n    }\n\n    .dataframe thead th {\n        text-align: right;\n    }\n</style>\n<table border=\"1\" class=\"dataframe\">\n  <thead>\n    <tr style=\"text-align: right;\">\n      <th></th>\n      <th>label</th>\n      <th>area</th>\n      <th>perimeter</th>\n      <th>aspectratio</th>\n      <th>centroidx</th>\n      <th>centroidy</th>\n      <th>equivalentdiameter</th>\n      <th>extent</th>\n      <th>meanintensity</th>\n      <th>orientation</th>\n      <th>eccentricity</th>\n      <th>dicompatientid</th>\n      <th>previouscancerdiagnosis</th>\n    </tr>\n  </thead>\n  <tbody>\n    <tr>\n      <th>0</th>\n      <td>0</td>\n      <td>0.326653</td>\n      <td>0.350579</td>\n      <td>0.949091</td>\n      <td>0.530454</td>\n      <td>0.842094</td>\n      <td>0.534709</td>\n      <td>0.308178</td>\n      <td>0.333713</td>\n      <td>0.036288</td>\n      <td>0.811104</td>\n      <td>4</td>\n      <td>1.0</td>\n    </tr>\n    <tr>\n      <th>1</th>\n      <td>0</td>\n      <td>0.326653</td>\n      <td>0.350579</td>\n      <td>0.949091</td>\n      <td>0.530454</td>\n      <td>0.842094</td>\n      <td>0.534709</td>\n      <td>0.308178</td>\n      <td>0.333713</td>\n      <td>0.036288</td>\n      <td>0.811104</td>\n      <td>4</td>\n      <td>1.0</td>\n    </tr>\n    <tr>\n      <th>2</th>\n      <td>0</td>\n      <td>0.334669</td>\n      <td>0.229176</td>\n      <td>0.040000</td>\n      <td>1.000000</td>\n      <td>0.894392</td>\n      <td>0.542240</td>\n      <td>0.435063</td>\n      <td>0.684463</td>\n      <td>0.464267</td>\n      <td>0.874032</td>\n      <td>4</td>\n      <td>1.0</td>\n    </tr>\n    <tr>\n      <th>3</th>\n      <td>0</td>\n      <td>0.130261</td>\n      <td>0.086087</td>\n      <td>0.280000</td>\n      <td>0.040752</td>\n      <td>0.857569</td>\n      <td>0.308730</td>\n      <td>0.720855</td>\n      <td>0.668596</td>\n      <td>0.545255</td>\n      <td>0.602152</td>\n      <td>4</td>\n      <td>1.0</td>\n    </tr>\n    <tr>\n      <th>4</th>\n      <td>1</td>\n      <td>0.100200</td>\n      <td>0.072654</td>\n      <td>0.440000</td>\n      <td>0.470218</td>\n      <td>0.208083</td>\n      <td>0.261825</td>\n      <td>0.700916</td>\n      <td>0.334637</td>\n      <td>0.793856</td>\n      <td>0.418157</td>\n      <td>4</td>\n      <td>1.0</td>\n    </tr>\n  </tbody>\n</table>\n</div>"
     },
     "metadata": {},
     "execution_count": 3
    }
   ],
   "source": [
    "\n",
    "data.label = data.label.map({\n",
    "    '580a2665-d0e8-4d36-81c2-c543eafa9671': 0,\n",
    "    '8eb39b0d-4c10-4b1f-9083-c8f48666a48c': 1,\n",
    "    '6ccb78b2-44e4-4aae-ab8b-23cde8585db9': 0,\n",
    "    'e3b044b1-c1db-4d71-9c08-a9c760730fd5': 0\n",
    "}).astype(np.int)\n",
    "data.centroidx= (data.centroidx - data.centroidx.min()) / (data.centroidx.max() - data.centroidx.min())\n",
    "data.centroidy= (data.centroidy - data.centroidy.min()) / (data.centroidy.max() - data.centroidy.min())\n",
    "data.orientation = (data.orientation  - data.orientation.min()) / (data.orientation.max() - data.orientation.min())\n",
    "data.perimeter= (data.perimeter - data.perimeter.min()) / (data.perimeter.max() - data.perimeter.min())\n",
    "data.meanintensity= (data.meanintensity - data.meanintensity.min()) / (data.meanintensity.max() - data.meanintensity.min())\n",
    "data.extent= (data.extent - data.extent.min()) / (data.extent.max() - data.extent.min())\n",
    "data.aspectratio= (data.aspectratio - data.aspectratio.min()) / (data.aspectratio.max() - data.aspectratio.min())\n",
    "data.area = (data.area - data.area.min()) / (data.area.max() - data.area.min())\n",
    "data.equivalentdiameter = (data.equivalentdiameter - data.equivalentdiameter.min()) / (data.equivalentdiameter.max() - data.equivalentdiameter.min())\n",
    "data.drop(columns=['dicompatientid'])\n",
    "data.head()"
   ]
  },
  {
   "cell_type": "code",
   "execution_count": 4,
   "metadata": {},
   "outputs": [],
   "source": [
    "featuresColumns = [x for x in data.columns if x not in 'label']\n",
    "stf = StratifiedShuffleSplit(n_splits=1, test_size=13, random_state=42)\n",
    "trainIdx, testIdx = next(stf.split(data[featuresColumns], data['label']))\n",
    "\n",
    "xTrain = data.loc[trainIdx, featuresColumns]\n",
    "yTrain = data.loc[trainIdx, 'label']\n",
    "\n",
    "xTest = data.loc[testIdx, featuresColumns]\n",
    "yTest = data.loc[testIdx, 'label']"
   ]
  },
  {
   "cell_type": "code",
   "execution_count": 5,
   "metadata": {},
   "outputs": [
    {
     "output_type": "execute_result",
     "data": {
      "text/plain": [
       "SVC()"
      ]
     },
     "metadata": {},
     "execution_count": 5
    }
   ],
   "source": [
    "sv = svm.SVC()\n",
    "sv.fit(xTrain, yTrain)"
   ]
  },
  {
   "cell_type": "code",
   "execution_count": 6,
   "metadata": {},
   "outputs": [],
   "source": [
    "def measureErrors(yTrue, yGuess, label):\n",
    "    return pd.Series({\n",
    "        'accuracy': accuracy_score(y_true=yTrue, y_pred=yGuess),\n",
    "        'precision': precision_score(y_true=yTrue, y_pred=yGuess),\n",
    "        'recall': recall_score(y_true=yTrue, y_pred=yGuess),\n",
    "        'roc': roc_auc_score(yTrue,yGuess)\n",
    "        },name=label\n",
    "    )"
   ]
  },
  {
   "cell_type": "code",
   "execution_count": 7,
   "metadata": {},
   "outputs": [
    {
     "output_type": "execute_result",
     "data": {
      "text/plain": [
       "              train  test\n",
       "accuracy   0.880597   1.0\n",
       "precision  0.741935   1.0\n",
       "recall     1.000000   1.0\n",
       "roc        0.909091   1.0"
      ],
      "text/html": "<div>\n<style scoped>\n    .dataframe tbody tr th:only-of-type {\n        vertical-align: middle;\n    }\n\n    .dataframe tbody tr th {\n        vertical-align: top;\n    }\n\n    .dataframe thead th {\n        text-align: right;\n    }\n</style>\n<table border=\"1\" class=\"dataframe\">\n  <thead>\n    <tr style=\"text-align: right;\">\n      <th></th>\n      <th>train</th>\n      <th>test</th>\n    </tr>\n  </thead>\n  <tbody>\n    <tr>\n      <th>accuracy</th>\n      <td>0.880597</td>\n      <td>1.0</td>\n    </tr>\n    <tr>\n      <th>precision</th>\n      <td>0.741935</td>\n      <td>1.0</td>\n    </tr>\n    <tr>\n      <th>recall</th>\n      <td>1.000000</td>\n      <td>1.0</td>\n    </tr>\n    <tr>\n      <th>roc</th>\n      <td>0.909091</td>\n      <td>1.0</td>\n    </tr>\n  </tbody>\n</table>\n</div>"
     },
     "metadata": {},
     "execution_count": 7
    }
   ],
   "source": [
    "trainPrediction = sv.predict(xTrain)\n",
    "testPrediction = sv.predict(xTest)\n",
    "\n",
    "trainAndTestErrors = pd.concat([measureErrors(yTrain, trainPrediction, 'train'), measureErrors(yTest, testPrediction, 'test')], axis=1)\n",
    "\n",
    "trainAndTestErrors"
   ]
  },
  {
   "cell_type": "code",
   "execution_count": null,
   "metadata": {},
   "outputs": [],
   "source": []
  }
 ]
}
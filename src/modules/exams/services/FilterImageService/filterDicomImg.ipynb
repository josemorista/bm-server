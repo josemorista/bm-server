{
 "metadata": {
  "language_info": {
   "codemirror_mode": {
    "name": "ipython",
    "version": 3
   },
   "file_extension": ".py",
   "mimetype": "text/x-python",
   "name": "python",
   "nbconvert_exporter": "python",
   "pygments_lexer": "ipython3",
   "version": "3.8.6-final"
  },
  "orig_nbformat": 2,
  "kernelspec": {
   "name": "python3",
   "display_name": "Python 3"
  }
 },
 "nbformat": 4,
 "nbformat_minor": 2,
 "cells": [
  {
   "cell_type": "code",
   "execution_count": 1,
   "metadata": {},
   "outputs": [],
   "source": [
    "import numpy as np\n",
    "import cv2 as cv"
   ]
  },
  {
   "cell_type": "code",
   "execution_count": 2,
   "metadata": {},
   "outputs": [],
   "source": [
    "def execute(src, out, operation, kernelParam=2):\n",
    "    img = cv.imread(src, 0)\n",
    "\n",
    "    if operation is 'erode':\n",
    "        kernelSize = int(kernelParam)\n",
    "        kernel = np.ones((kernelSize,kernelSize),np.uint8)\n",
    "        img = cv.erode(img, kernel, iterations=1)\n",
    "\n",
    "    if operation is 'dilate':\n",
    "        kernelSize = int(kernelParam)\n",
    "        kernel = np.ones((kernelSize,kernelSize),np.uint8)\n",
    "        img = cv.dilate(img,kernel,iterations = 1)\n",
    "\n",
    "    cv.imwrite(out, img)"
   ]
  },
  {
   "cell_type": "code",
   "execution_count": 3,
   "metadata": {},
   "outputs": [],
   "source": [
    "execute('./ant1.png', './er1.png', 'erode')\n",
    "execute('./er1.png', './dl1.png', 'dilate')"
   ]
  }
 ]
}
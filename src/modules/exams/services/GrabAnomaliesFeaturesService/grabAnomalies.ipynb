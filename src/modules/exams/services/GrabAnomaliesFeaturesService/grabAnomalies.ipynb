{
 "metadata": {
  "language_info": {
   "codemirror_mode": {
    "name": "ipython",
    "version": 3
   },
   "file_extension": ".py",
   "mimetype": "text/x-python",
   "name": "python",
   "nbconvert_exporter": "python",
   "pygments_lexer": "ipython3",
   "version": "3.8.6-final"
  },
  "orig_nbformat": 2,
  "kernelspec": {
   "name": "python3",
   "display_name": "Python 3"
  }
 },
 "nbformat": 4,
 "nbformat_minor": 2,
 "cells": [
  {
   "cell_type": "code",
   "execution_count": 4,
   "metadata": {},
   "outputs": [],
   "source": [
    "import numpy as np\n",
    "import cv2 as cv\n",
    "import json"
   ]
  },
  {
   "cell_type": "code",
   "execution_count": 6,
   "metadata": {},
   "outputs": [],
   "source": [
    "def execute(src, out, minArea=5):\n",
    "    img = cv.imread(src, 0)\n",
    "    contours, hierarchy = cv.findContours(img, cv.RETR_TREE,  cv.CHAIN_APPROX_NONE)\n",
    "    # Sort by larger areas\n",
    "    contoursFeatures = []\n",
    "    cnts = sorted(contours, key=cv.contourArea, reverse=True)\n",
    "    for i in range(0, len(cnts)):\n",
    "        if cv.contourArea(cnts[i]) >= minArea:\n",
    "            features = {}\n",
    "            M = cv.moments(cnts[i])\n",
    "            features.centroid = (int(M['m10'] / M['m00']), int(M['m01'] / M['m00']))\n",
    "            features.arcLength = cv.arcLength(cnts[i], True)\n",
    "            features.area = cv.contourArea(cnts[i])\n",
    "            try:\n",
    "                # Calculate eccentricity\n",
    "                (x, y), (MA, ma), angle = cv.fitEllipse(cnts[i])\n",
    "                a = ma/2\n",
    "                b = MA/2\n",
    "\n",
    "                if (a > b):\n",
    "                    eccentricity = sqrt(pow(a, 2)-pow(b, 2))\n",
    "                    eccentricity = round(eccentricity/a, 2)\n",
    "                else:\n",
    "                    eccentricity = sqrt(pow(b, 2)-pow(a, 2))\n",
    "                    eccentricity = round(eccentricity/b, 2)\n",
    "\n",
    "                features.eccentricity = eccentricity\n",
    "            except:\n",
    "                features.eccentricity = -1\n",
    "            contoursFeatures.append(features)\n",
    "    f = open(out)\n",
    "    f.write(json(contoursFeatures))"
   ]
  },
  {
   "cell_type": "code",
   "execution_count": 7,
   "metadata": {},
   "outputs": [
    {
     "output_type": "error",
     "ename": "NameError",
     "evalue": "name 'cv2' is not defined",
     "traceback": [
      "\u001b[0;31m---------------------------------------------------------------------------\u001b[0m",
      "\u001b[0;31mNameError\u001b[0m                                 Traceback (most recent call last)",
      "\u001b[0;32m<ipython-input-7-ad9a9be49414>\u001b[0m in \u001b[0;36m<module>\u001b[0;34m\u001b[0m\n\u001b[0;32m----> 1\u001b[0;31m \u001b[0mexecute\u001b[0m\u001b[0;34m(\u001b[0m\u001b[0;34m'./dl1.png'\u001b[0m\u001b[0;34m,\u001b[0m \u001b[0;34m'contours.json'\u001b[0m\u001b[0;34m,\u001b[0m \u001b[0;36m5\u001b[0m\u001b[0;34m)\u001b[0m\u001b[0;34m\u001b[0m\u001b[0;34m\u001b[0m\u001b[0m\n\u001b[0m",
      "\u001b[0;32m<ipython-input-6-de81a7d40c43>\u001b[0m in \u001b[0;36mexecute\u001b[0;34m(src, out, minArea)\u001b[0m\n\u001b[1;32m      4\u001b[0m     \u001b[0;31m# Sort by larger areas\u001b[0m\u001b[0;34m\u001b[0m\u001b[0;34m\u001b[0m\u001b[0;34m\u001b[0m\u001b[0m\n\u001b[1;32m      5\u001b[0m     \u001b[0mcontoursFeatures\u001b[0m \u001b[0;34m=\u001b[0m \u001b[0;34m[\u001b[0m\u001b[0;34m]\u001b[0m\u001b[0;34m\u001b[0m\u001b[0;34m\u001b[0m\u001b[0m\n\u001b[0;32m----> 6\u001b[0;31m     \u001b[0mcnts\u001b[0m \u001b[0;34m=\u001b[0m \u001b[0msorted\u001b[0m\u001b[0;34m(\u001b[0m\u001b[0mcontours\u001b[0m\u001b[0;34m,\u001b[0m \u001b[0mkey\u001b[0m\u001b[0;34m=\u001b[0m\u001b[0mcv2\u001b[0m\u001b[0;34m.\u001b[0m\u001b[0mcontourArea\u001b[0m\u001b[0;34m,\u001b[0m \u001b[0mreverse\u001b[0m\u001b[0;34m=\u001b[0m\u001b[0;32mTrue\u001b[0m\u001b[0;34m)\u001b[0m\u001b[0;34m\u001b[0m\u001b[0;34m\u001b[0m\u001b[0m\n\u001b[0m\u001b[1;32m      7\u001b[0m     \u001b[0;32mfor\u001b[0m \u001b[0mi\u001b[0m \u001b[0;32min\u001b[0m \u001b[0mrange\u001b[0m\u001b[0;34m(\u001b[0m\u001b[0;36m0\u001b[0m\u001b[0;34m,\u001b[0m \u001b[0mlen\u001b[0m\u001b[0;34m(\u001b[0m\u001b[0mcnts\u001b[0m\u001b[0;34m)\u001b[0m\u001b[0;34m)\u001b[0m\u001b[0;34m:\u001b[0m\u001b[0;34m\u001b[0m\u001b[0;34m\u001b[0m\u001b[0m\n\u001b[1;32m      8\u001b[0m         \u001b[0;32mif\u001b[0m \u001b[0mcv\u001b[0m\u001b[0;34m.\u001b[0m\u001b[0mcontourArea\u001b[0m\u001b[0;34m(\u001b[0m\u001b[0mcnts\u001b[0m\u001b[0;34m[\u001b[0m\u001b[0mi\u001b[0m\u001b[0;34m]\u001b[0m\u001b[0;34m)\u001b[0m \u001b[0;34m>=\u001b[0m \u001b[0mminArea\u001b[0m\u001b[0;34m:\u001b[0m\u001b[0;34m\u001b[0m\u001b[0;34m\u001b[0m\u001b[0m\n",
      "\u001b[0;31mNameError\u001b[0m: name 'cv2' is not defined"
     ]
    }
   ],
   "source": [
    "execute('./dl1.png', 'contours.json', 5)"
   ]
  },
  {
   "cell_type": "code",
   "execution_count": null,
   "metadata": {},
   "outputs": [],
   "source": []
  }
 ]
}
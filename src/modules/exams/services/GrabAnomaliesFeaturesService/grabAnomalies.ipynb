{
 "metadata": {
  "language_info": {
   "codemirror_mode": {
    "name": "ipython",
    "version": 3
   },
   "file_extension": ".py",
   "mimetype": "text/x-python",
   "name": "python",
   "nbconvert_exporter": "python",
   "pygments_lexer": "ipython3",
   "version": "3.8.6-final"
  },
  "orig_nbformat": 2,
  "kernelspec": {
   "name": "python3",
   "display_name": "Python 3"
  }
 },
 "nbformat": 4,
 "nbformat_minor": 2,
 "cells": [
  {
   "cell_type": "code",
   "execution_count": 1,
   "metadata": {},
   "outputs": [],
   "source": [
    "import numpy as np\n",
    "import cv2 as cv\n",
    "import json\n",
    "from math import sqrt, pow"
   ]
  },
  {
   "cell_type": "code",
   "execution_count": 2,
   "metadata": {},
   "outputs": [],
   "source": [
    "def execute(src, out, minArea=5, drawLabel=True):\n",
    "    img = cv.imread(src, 0)\n",
    "    labeled = cv.cvtColor(img, 0, cv.COLOR_GRAY2BGR)\n",
    "    # External tree or external as param\n",
    "    contours, hierarchy = cv.findContours(img, cv.RETR_EXTERNAL,  cv.CHAIN_APPROX_NONE)\n",
    "    # Sort by larger areas\n",
    "    contoursFeatures = []\n",
    "    cnts = sorted(contours, key=cv.contourArea, reverse=True)\n",
    "    for i in range(0, len(cnts)):\n",
    "        if cv.contourArea(cnts[i]) >= minArea:\n",
    "            features = {}\n",
    "            M = cv.moments(cnts[i])\n",
    "            centroid = (int(M['m10'] / M['m00']), int(M['m01'] / M['m00']))\n",
    "            features['xCentroid'] = centroid[0]\n",
    "            features['yCentroid'] = centroid[1]\n",
    "            features['arcLength'] = cv.arcLength(cnts[i], True)\n",
    "            features['area'] = cv.contourArea(cnts[i])\n",
    "            if drawLabel:\n",
    "                cv.putText(labeled, str(i), (centroid[0], centroid[1]), cv.FONT_HERSHEY_SIMPLEX, 1, (209, 80, 0, 255), 3)\n",
    "            try:\n",
    "                # Calculate eccentricity\n",
    "                (x, y), (MA, ma), angle = cv.fitEllipse(cnts[i])\n",
    "                a = ma/2\n",
    "                b = MA/2\n",
    "\n",
    "                if (a > b):\n",
    "                    eccentricity = sqrt(pow(a, 2)-pow(b, 2))\n",
    "                    eccentricity = round(eccentricity/a, 2)\n",
    "                else:\n",
    "                    eccentricity = sqrt(pow(b, 2)-pow(a, 2))\n",
    "                    eccentricity = round(eccentricity/b, 2)\n",
    "\n",
    "                features['eccentricity'] = eccentricity\n",
    "            except Error:\n",
    "                features['eccentricity'] = 0\n",
    "            contoursFeatures.append(features)\n",
    "    f = open(out, 'w')\n",
    "    f.write(json.dumps(contoursFeatures))\n",
    "    if drawLabel:\n",
    "        cv.imwrite(src.replace('.png', 'labeled.png'), labeled)"
   ]
  },
  {
   "cell_type": "code",
   "execution_count": 3,
   "metadata": {},
   "outputs": [],
   "source": [
    "execute('./dl1.png', './features.json', 5)"
   ]
  }
 ]
}
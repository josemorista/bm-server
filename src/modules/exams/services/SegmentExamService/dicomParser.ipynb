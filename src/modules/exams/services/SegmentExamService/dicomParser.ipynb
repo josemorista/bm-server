{
 "metadata": {
  "language_info": {
   "codemirror_mode": {
    "name": "ipython",
    "version": 3
   },
   "file_extension": ".py",
   "mimetype": "text/x-python",
   "name": "python",
   "nbconvert_exporter": "python",
   "pygments_lexer": "ipython3",
   "version": "3.8.6-final"
  },
  "orig_nbformat": 2,
  "kernelspec": {
   "name": "python3",
   "display_name": "Python 3"
  }
 },
 "nbformat": 4,
 "nbformat_minor": 2,
 "cells": [
  {
   "cell_type": "code",
   "execution_count": 1,
   "metadata": {},
   "outputs": [],
   "source": [
    "import pydicom as dicom\n",
    "import numpy as np\n",
    "import sys\n",
    "import cv2\n",
    "import imutils"
   ]
  },
  {
   "cell_type": "code",
   "execution_count": 2,
   "metadata": {},
   "outputs": [],
   "source": [
    "def linearTransform(x, minimum, maximum, a, b):\n",
    "    return ((b - a) * ((x - minimum) / (maximum - minimum)) + a)\n",
    "\n",
    "\n",
    "def getSegmentedPixelColor(value, minimum, maximum):\n",
    "    if value >= minimum and value <= maximum:\n",
    "        return linearTransform(value, 0, 255, minimum, maximum)\n",
    "    return 0\n",
    "\n",
    "\n",
    "def getSegmentedBGR(pixelArray, rows, cols, minimum, maximum):\n",
    "    image = np.zeros((rows, cols, 3), np.uint8)\n",
    "    for i in range(rows):\n",
    "        for j in range(cols):\n",
    "            image[i][j][0] = image[i][j][1] = image[i][j][2] = getSegmentedPixelColor(\n",
    "                pixelArray[i][j], minimum, maximum)\n",
    "    return image"
   ]
  },
  {
   "cell_type": "code",
   "execution_count": 3,
   "metadata": {},
   "outputs": [],
   "source": [
    "def execute(src, minimum, maximum, output):\n",
    "    ds = dicom.dcmread(src)\n",
    "\n",
    "    rows = ds.Rows\n",
    "    cols = ds.Columns\n",
    "\n",
    "    patientId = ds.PatientID\n",
    "    im = getSegmentedBGR(ds.pixel_array, rows, cols, minimum, maximum)\n",
    "\n",
    "    im = cv2.cvtColor(im, cv2.COLOR_BGR2GRAY)\n",
    "\n",
    "    cv2.imwrite(output, im)"
   ]
  },
  {
   "cell_type": "code",
   "execution_count": 4,
   "metadata": {},
   "outputs": [],
   "source": [
    "execute('./ant1.dcm', 50, 300, './ant1.png')"
   ]
  }
 ]
}